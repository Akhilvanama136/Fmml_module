{
  "nbformat": 4,
  "nbformat_minor": 0,
  "metadata": {
    "colab": {
      "provenance": [],
      "authorship_tag": "ABX9TyMCwBV9oyOkSfPSShCBIRbx",
      "include_colab_link": true
    },
    "kernelspec": {
      "name": "python3",
      "display_name": "Python 3"
    },
    "language_info": {
      "name": "python"
    }
  },
  "cells": [
    {
      "cell_type": "markdown",
      "metadata": {
        "id": "view-in-github",
        "colab_type": "text"
      },
      "source": [
        "<a href=\"https://colab.research.google.com/github/Akhilvanama136/Fmml_module/blob/main/K_HUB_TASK.ipynb\" target=\"_parent\"><img src=\"https://colab.research.google.com/assets/colab-badge.svg\" alt=\"Open In Colab\"/></a>"
      ]
    },
    {
      "cell_type": "markdown",
      "source": [
        "strings"
      ],
      "metadata": {
        "id": "JwrVAareXc8x"
      }
    },
    {
      "cell_type": "markdown",
      "source": [],
      "metadata": {
        "id": "Hr1n6JRH-sZF"
      }
    },
    {
      "cell_type": "markdown",
      "source": [
        "# **DAY1**"
      ],
      "metadata": {
        "id": "-VJxweQG-srt"
      }
    },
    {
      "cell_type": "code",
      "execution_count": null,
      "metadata": {
        "colab": {
          "base_uri": "https://localhost:8080/"
        },
        "id": "pZnw41dery3Z",
        "outputId": "9fdc36ae-4373-48a2-fc46-829d64a58e92"
      },
      "outputs": [
        {
          "output_type": "stream",
          "name": "stdout",
          "text": [
            "akhil\n"
          ]
        }
      ],
      "source": [
        "print(\"akhil\")"
      ]
    },
    {
      "cell_type": "markdown",
      "source": [
        "multiline strings"
      ],
      "metadata": {
        "id": "Z4EVQVxPXkEn"
      }
    },
    {
      "cell_type": "code",
      "source": [
        "a = '''name college name'''\n",
        "print(a[1])"
      ],
      "metadata": {
        "colab": {
          "base_uri": "https://localhost:8080/"
        },
        "id": "-pVrTE4jtVLV",
        "outputId": "9f55e766-63bb-4eec-a31d-1097114fca78"
      },
      "execution_count": null,
      "outputs": [
        {
          "output_type": "stream",
          "name": "stdout",
          "text": [
            "a\n"
          ]
        }
      ]
    },
    {
      "cell_type": "markdown",
      "source": [
        "looping with string"
      ],
      "metadata": {
        "id": "gyjAgbmLXoX4"
      }
    },
    {
      "cell_type": "code",
      "source": [
        "for y in \"banana\":\n",
        "  print(y)"
      ],
      "metadata": {
        "colab": {
          "base_uri": "https://localhost:8080/"
        },
        "id": "Y92vKOP5vuz_",
        "outputId": "5d6b7b9f-9595-4576-c6e9-048f5e0281eb"
      },
      "execution_count": null,
      "outputs": [
        {
          "output_type": "stream",
          "name": "stdout",
          "text": [
            "b\n",
            "a\n",
            "n\n",
            "a\n",
            "n\n",
            "a\n"
          ]
        }
      ]
    },
    {
      "cell_type": "code",
      "source": [
        "a = \"akhil is the good boy \"\n",
        "print(a)"
      ],
      "metadata": {
        "colab": {
          "base_uri": "https://localhost:8080/"
        },
        "id": "JIWu8WBEtE-f",
        "outputId": "504e5e6e-4674-4ded-e5c4-9e9a9d35ac68"
      },
      "execution_count": null,
      "outputs": [
        {
          "output_type": "stream",
          "name": "stdout",
          "text": [
            "akhil is the good boy \n"
          ]
        }
      ]
    },
    {
      "cell_type": "markdown",
      "source": [
        "reverse string"
      ],
      "metadata": {
        "id": "qx5CvbXiY4Z1"
      }
    },
    {
      "cell_type": "code",
      "source": [
        "txt = \"akhil\"\n",
        "print(txt[::-1])"
      ],
      "metadata": {
        "colab": {
          "base_uri": "https://localhost:8080/"
        },
        "id": "9e4x6G3P5SVe",
        "outputId": "6154955d-c3be-4ec7-ea92-e340f8899748"
      },
      "execution_count": null,
      "outputs": [
        {
          "output_type": "stream",
          "name": "stdout",
          "text": [
            "lihka\n"
          ]
        }
      ]
    },
    {
      "cell_type": "markdown",
      "source": [
        "string captiliaze"
      ],
      "metadata": {
        "id": "TGWZPEdkZBgN"
      }
    },
    {
      "cell_type": "code",
      "source": [
        "txt = \"iam a junior developer in khub\"\n",
        "x = txt.upper()\n",
        "print(x)"
      ],
      "metadata": {
        "colab": {
          "base_uri": "https://localhost:8080/"
        },
        "id": "oN6CeA4OWpWp",
        "outputId": "475e0174-faf9-43a2-b3ad-f413539afc83"
      },
      "execution_count": null,
      "outputs": [
        {
          "output_type": "stream",
          "name": "stdout",
          "text": [
            "IAM A JUNIOR DEVELOPER IN KHUB\n"
          ]
        }
      ]
    },
    {
      "cell_type": "markdown",
      "source": [
        "string count"
      ],
      "metadata": {
        "id": "4W53CJajaqRa"
      }
    },
    {
      "cell_type": "code",
      "source": [
        "txt = \" bikes is my favourite then the cars\"\n",
        "x = txt.count(\"bikes\")\n",
        "print(x)"
      ],
      "metadata": {
        "colab": {
          "base_uri": "https://localhost:8080/"
        },
        "id": "18Hhn-QcZ7YW",
        "outputId": "a31c5ba8-0b9e-4f03-bd7a-bf535aebe609"
      },
      "execution_count": null,
      "outputs": [
        {
          "output_type": "stream",
          "name": "stdout",
          "text": [
            "1\n"
          ]
        }
      ]
    },
    {
      "cell_type": "markdown",
      "source": [
        "string find"
      ],
      "metadata": {
        "id": "DHNgyYxQbhvW"
      }
    },
    {
      "cell_type": "code",
      "source": [
        "txt= \"where is my pen \"\n",
        "x=txt.find(\"pen\")\n",
        "print(x)"
      ],
      "metadata": {
        "id": "clWucfFMmZuw",
        "colab": {
          "base_uri": "https://localhost:8080/"
        },
        "outputId": "708431d4-4138-456d-dc73-6ba1b1e8ffdd"
      },
      "execution_count": null,
      "outputs": [
        {
          "output_type": "stream",
          "name": "stdout",
          "text": [
            "12\n"
          ]
        }
      ]
    },
    {
      "cell_type": "markdown",
      "source": [
        "boolean true or false"
      ],
      "metadata": {
        "id": "Qfxh250hmQ_Q"
      }
    },
    {
      "cell_type": "code",
      "source": [
        "a = 250\n",
        "b = 300\n",
        "if b > a:\n",
        "  print(\"b is greather than a\")\n",
        "else:\n",
        "  print(\"b is not greather than a\")"
      ],
      "metadata": {
        "colab": {
          "base_uri": "https://localhost:8080/"
        },
        "id": "cSJRJ7ynblIm",
        "outputId": "4deea2ed-2654-4a1d-babc-ca6aee267ef7"
      },
      "execution_count": null,
      "outputs": [
        {
          "output_type": "stream",
          "name": "stdout",
          "text": [
            "b is greather than a\n"
          ]
        }
      ]
    },
    {
      "cell_type": "markdown",
      "source": [
        "evaluating values and variables"
      ],
      "metadata": {
        "id": "R3R54QDeoHFM"
      }
    },
    {
      "cell_type": "code",
      "source": [
        "print(bool(0))\n",
        "print(bool(15))"
      ],
      "metadata": {
        "colab": {
          "base_uri": "https://localhost:8080/"
        },
        "id": "D9ka8VrXoMsT",
        "outputId": "1ae281bc-91bd-4813-dbf9-45a671652e08"
      },
      "execution_count": null,
      "outputs": [
        {
          "output_type": "stream",
          "name": "stdout",
          "text": [
            "False\n",
            "True\n"
          ]
        }
      ]
    },
    {
      "cell_type": "markdown",
      "source": [
        "print x and y in boolean"
      ],
      "metadata": {
        "id": "VyjDy55Yoc3Q"
      }
    },
    {
      "cell_type": "code",
      "source": [
        "x = \"helo\"\n",
        "y= 0\n",
        "print(bool(x))\n",
        "print(bool(y))"
      ],
      "metadata": {
        "colab": {
          "base_uri": "https://localhost:8080/"
        },
        "id": "9hih5SXfoifL",
        "outputId": "a3fde954-256e-43ff-efea-65cd5290209a"
      },
      "execution_count": null,
      "outputs": [
        {
          "output_type": "stream",
          "name": "stdout",
          "text": [
            "True\n",
            "False\n"
          ]
        }
      ]
    },
    {
      "cell_type": "markdown",
      "source": [
        "function can return boolean"
      ],
      "metadata": {
        "id": "Ke2jafnMpGXv"
      }
    },
    {
      "cell_type": "code",
      "source": [
        "def myFunction() :\n",
        "  return False\n",
        "print(myFunction())"
      ],
      "metadata": {
        "colab": {
          "base_uri": "https://localhost:8080/"
        },
        "id": "PgMRxauQpVpy",
        "outputId": "7c48ed2f-1f64-4485-b408-3f3d805790ec"
      },
      "execution_count": null,
      "outputs": [
        {
          "output_type": "stream",
          "name": "stdout",
          "text": [
            "False\n"
          ]
        }
      ]
    },
    {
      "cell_type": "markdown",
      "source": [],
      "metadata": {
        "id": "f524RMkLvrzp"
      }
    },
    {
      "cell_type": "markdown",
      "source": [
        "arthematic operators"
      ],
      "metadata": {
        "id": "D4EMDwdjukkF"
      }
    },
    {
      "cell_type": "code",
      "source": [
        "x = 10\n",
        "y = 290\n",
        "print(x+y)"
      ],
      "metadata": {
        "colab": {
          "base_uri": "https://localhost:8080/"
        },
        "id": "0MhAvg6wvA1_",
        "outputId": "6b1010b5-a28c-42ae-c3d7-a31bd3e9685e"
      },
      "execution_count": null,
      "outputs": [
        {
          "output_type": "stream",
          "name": "stdout",
          "text": [
            "300\n"
          ]
        }
      ]
    },
    {
      "cell_type": "markdown",
      "source": [
        "subtraction"
      ],
      "metadata": {
        "id": "ijKijcbUvNPN"
      }
    },
    {
      "cell_type": "code",
      "source": [
        "x = 375\n",
        "y= 120\n",
        "print(x-y)"
      ],
      "metadata": {
        "colab": {
          "base_uri": "https://localhost:8080/"
        },
        "id": "dWIJazgbv1hT",
        "outputId": "2870a386-5dbc-4ddf-fc26-51de5a7e4813"
      },
      "execution_count": null,
      "outputs": [
        {
          "output_type": "stream",
          "name": "stdout",
          "text": [
            "255\n"
          ]
        }
      ]
    },
    {
      "cell_type": "markdown",
      "source": [
        "multipication"
      ],
      "metadata": {
        "id": "sP1YqvF2wgEI"
      }
    },
    {
      "cell_type": "code",
      "source": [
        "x = 4500\n",
        "y= 2500\n",
        "print(x*y)"
      ],
      "metadata": {
        "colab": {
          "base_uri": "https://localhost:8080/"
        },
        "id": "cnVX-viDwoQV",
        "outputId": "2f47af35-3d8c-4fd1-e202-8b636f921324"
      },
      "execution_count": null,
      "outputs": [
        {
          "output_type": "stream",
          "name": "stdout",
          "text": [
            "11250000\n"
          ]
        }
      ]
    },
    {
      "cell_type": "markdown",
      "source": [
        "division"
      ],
      "metadata": {
        "id": "Jt08OGfFw5Cu"
      }
    },
    {
      "cell_type": "code",
      "source": [
        "x = 457\n",
        "y = 230\n",
        "print (x/y)"
      ],
      "metadata": {
        "colab": {
          "base_uri": "https://localhost:8080/"
        },
        "id": "2UMNg5e1w4IN",
        "outputId": "33a89b02-a0c7-4c5a-ffc0-1d8f70a47650"
      },
      "execution_count": null,
      "outputs": [
        {
          "output_type": "stream",
          "name": "stdout",
          "text": [
            "1.9869565217391305\n"
          ]
        }
      ]
    },
    {
      "cell_type": "markdown",
      "source": [
        "modulus"
      ],
      "metadata": {
        "id": "PSoihanBzAUC"
      }
    },
    {
      "cell_type": "code",
      "source": [
        "x = 55\n",
        "y = 25\n",
        "print(x%y)"
      ],
      "metadata": {
        "colab": {
          "base_uri": "https://localhost:8080/"
        },
        "id": "i3a3ibpozDjQ",
        "outputId": "5258f066-7bff-4c26-d1fa-23f4954f41ff"
      },
      "execution_count": null,
      "outputs": [
        {
          "output_type": "stream",
          "name": "stdout",
          "text": [
            "5\n"
          ]
        }
      ]
    },
    {
      "cell_type": "markdown",
      "source": [
        "floor division"
      ],
      "metadata": {
        "id": "NJ0XmgnszP81"
      }
    },
    {
      "cell_type": "code",
      "source": [
        "x= 105\n",
        "y= 65\n",
        "print(x//y)"
      ],
      "metadata": {
        "colab": {
          "base_uri": "https://localhost:8080/"
        },
        "id": "uGzsTLsdzUVL",
        "outputId": "cf41157e-1c67-4997-a16a-45ffeff10338"
      },
      "execution_count": null,
      "outputs": [
        {
          "output_type": "stream",
          "name": "stdout",
          "text": [
            "1\n"
          ]
        }
      ]
    },
    {
      "cell_type": "markdown",
      "source": [
        "iam writing code for equals to +="
      ],
      "metadata": {
        "id": "8TB0t_uuz3Pl"
      }
    },
    {
      "cell_type": "code",
      "source": [
        "x =5\n",
        "x += 3\n",
        "print(x)"
      ],
      "metadata": {
        "colab": {
          "base_uri": "https://localhost:8080/"
        },
        "id": "3kGE2KFo0AGF",
        "outputId": "6888a198-337f-4311-d582-f21725143658"
      },
      "execution_count": null,
      "outputs": [
        {
          "output_type": "stream",
          "name": "stdout",
          "text": [
            "8\n"
          ]
        }
      ]
    },
    {
      "cell_type": "markdown",
      "source": [
        "writing code for -="
      ],
      "metadata": {
        "id": "T7MqwPHf0jja"
      }
    },
    {
      "cell_type": "code",
      "source": [
        "x =10\n",
        "x -= 15\n",
        "\n",
        "print(x)"
      ],
      "metadata": {
        "colab": {
          "base_uri": "https://localhost:8080/"
        },
        "id": "qqnIQJ671b-N",
        "outputId": "332ba223-9f28-45b7-a46d-c3b18a601652"
      },
      "execution_count": null,
      "outputs": [
        {
          "output_type": "stream",
          "name": "stdout",
          "text": [
            "-5\n"
          ]
        }
      ]
    },
    {
      "cell_type": "markdown",
      "source": [
        "writing code for *="
      ],
      "metadata": {
        "id": "7Labq6EL2Wjn"
      }
    },
    {
      "cell_type": "code",
      "source": [
        "x=100\n",
        "x*=200\n",
        "print(x)"
      ],
      "metadata": {
        "colab": {
          "base_uri": "https://localhost:8080/"
        },
        "id": "SyGfhUFj2gCS",
        "outputId": "5c29f9c1-f9ab-4694-fd95-2b3326707964"
      },
      "execution_count": null,
      "outputs": [
        {
          "output_type": "stream",
          "name": "stdout",
          "text": [
            "20000\n"
          ]
        }
      ]
    },
    {
      "cell_type": "markdown",
      "source": [
        "writing code for /="
      ],
      "metadata": {
        "id": "6JKydkAw2zcC"
      }
    },
    {
      "cell_type": "code",
      "source": [
        "x=20\n",
        "x/=45\n",
        "print(x)"
      ],
      "metadata": {
        "colab": {
          "base_uri": "https://localhost:8080/"
        },
        "id": "ALOpS8l5242_",
        "outputId": "f7c718f3-4559-47c5-cdd0-5833c4ca6c3c"
      },
      "execution_count": null,
      "outputs": [
        {
          "output_type": "stream",
          "name": "stdout",
          "text": [
            "0.4444444444444444\n"
          ]
        }
      ]
    },
    {
      "cell_type": "markdown",
      "source": [
        "writing code for %="
      ],
      "metadata": {
        "id": "RKiD0S0V3XrM"
      }
    },
    {
      "cell_type": "code",
      "source": [
        "x=15\n",
        "x%=45\n",
        "print(x)"
      ],
      "metadata": {
        "colab": {
          "base_uri": "https://localhost:8080/"
        },
        "id": "05NT2gxH3Un-",
        "outputId": "de189460-e457-43e4-825b-b02d83da6918"
      },
      "execution_count": null,
      "outputs": [
        {
          "output_type": "stream",
          "name": "stdout",
          "text": [
            "15\n"
          ]
        }
      ]
    },
    {
      "cell_type": "markdown",
      "source": [
        "writing code for //="
      ],
      "metadata": {
        "id": "vo2Kc0nK3v_a"
      }
    },
    {
      "cell_type": "code",
      "source": [
        "x= 250\n",
        "x//=150\n",
        "print(x)"
      ],
      "metadata": {
        "colab": {
          "base_uri": "https://localhost:8080/"
        },
        "id": "KwUX0fao31M-",
        "outputId": "1376e036-7ba9-48bf-de4c-16e038c124e9"
      },
      "execution_count": null,
      "outputs": [
        {
          "output_type": "stream",
          "name": "stdout",
          "text": [
            "1\n"
          ]
        }
      ]
    },
    {
      "cell_type": "markdown",
      "source": [
        "comparision operators writing code for =="
      ],
      "metadata": {
        "id": "bhmyQfKf4KnT"
      }
    },
    {
      "cell_type": "code",
      "source": [
        "x=17\n",
        "y=179\n",
        "print(x==y)"
      ],
      "metadata": {
        "colab": {
          "base_uri": "https://localhost:8080/"
        },
        "id": "aNMtorNx4ZA3",
        "outputId": "43c0389f-a648-4c22-f5fd-a5ce3644e590"
      },
      "execution_count": null,
      "outputs": [
        {
          "output_type": "stream",
          "name": "stdout",
          "text": [
            "False\n"
          ]
        }
      ]
    },
    {
      "cell_type": "markdown",
      "source": [
        "writing code!="
      ],
      "metadata": {
        "id": "xu0Cn7v56KQR"
      }
    },
    {
      "cell_type": "code",
      "source": [
        "x=210\n",
        "y=250\n",
        "print(x !=y)"
      ],
      "metadata": {
        "colab": {
          "base_uri": "https://localhost:8080/"
        },
        "id": "NnNZ6kdf6UjL",
        "outputId": "1fed829f-3612-4647-c74f-81cd4d8693d1"
      },
      "execution_count": null,
      "outputs": [
        {
          "output_type": "stream",
          "name": "stdout",
          "text": [
            "True\n"
          ]
        }
      ]
    },
    {
      "cell_type": "markdown",
      "source": [
        "writing code greater>"
      ],
      "metadata": {
        "id": "RHRgtJcU6rQW"
      }
    },
    {
      "cell_type": "code",
      "source": [
        "x= 1000\n",
        "y=200\n",
        "print(x>y)"
      ],
      "metadata": {
        "colab": {
          "base_uri": "https://localhost:8080/"
        },
        "id": "PdMf7e1J6lRX",
        "outputId": "8f38e3b3-e65f-47a4-881d-178a52e8e7b1"
      },
      "execution_count": null,
      "outputs": [
        {
          "output_type": "stream",
          "name": "stdout",
          "text": [
            "True\n"
          ]
        }
      ]
    },
    {
      "cell_type": "markdown",
      "source": [
        "writing code for <"
      ],
      "metadata": {
        "id": "yMGxN61T7HzI"
      }
    },
    {
      "cell_type": "code",
      "source": [
        "x=120\n",
        "y=200\n",
        "print(x>y)"
      ],
      "metadata": {
        "colab": {
          "base_uri": "https://localhost:8080/"
        },
        "id": "aowtRqtG7OrY",
        "outputId": "83724be3-ef12-494d-d340-ffbcad20893d"
      },
      "execution_count": null,
      "outputs": [
        {
          "output_type": "stream",
          "name": "stdout",
          "text": [
            "False\n"
          ]
        }
      ]
    },
    {
      "cell_type": "markdown",
      "source": [
        "writing code for >="
      ],
      "metadata": {
        "id": "DFxllE8t7ePF"
      }
    },
    {
      "cell_type": "code",
      "source": [
        "x=210\n",
        "y=250\n",
        "print(x>=y)"
      ],
      "metadata": {
        "colab": {
          "base_uri": "https://localhost:8080/"
        },
        "id": "DZpvQvd_7hYj",
        "outputId": "4128b703-7a65-48e2-fc8f-b0b6891b6050"
      },
      "execution_count": null,
      "outputs": [
        {
          "output_type": "stream",
          "name": "stdout",
          "text": [
            "False\n"
          ]
        }
      ]
    },
    {
      "cell_type": "markdown",
      "source": [
        "writing code for >="
      ],
      "metadata": {
        "id": "FqRnScLY7tkc"
      }
    },
    {
      "cell_type": "code",
      "source": [
        "x=120\n",
        "y=200\n",
        "print(x<=y)"
      ],
      "metadata": {
        "colab": {
          "base_uri": "https://localhost:8080/"
        },
        "id": "RGBOpSrk7bY8",
        "outputId": "ee72bf1e-752f-43a9-e0e8-3db10f9d8d33"
      },
      "execution_count": null,
      "outputs": [
        {
          "output_type": "stream",
          "name": "stdout",
          "text": [
            "True\n"
          ]
        }
      ]
    },
    {
      "cell_type": "markdown",
      "source": [
        "logic gate and gate"
      ],
      "metadata": {
        "id": "xH6Z-x1M8Ht0"
      }
    },
    {
      "cell_type": "code",
      "source": [
        "x=75\n",
        "print(x>3 and x< 75)"
      ],
      "metadata": {
        "colab": {
          "base_uri": "https://localhost:8080/"
        },
        "id": "ORsMwA7g8OF4",
        "outputId": "b8a47644-2b05-4ea0-9437-887b43861ce2"
      },
      "execution_count": null,
      "outputs": [
        {
          "output_type": "stream",
          "name": "stdout",
          "text": [
            "False\n"
          ]
        }
      ]
    },
    {
      "cell_type": "markdown",
      "source": [
        "or gate"
      ],
      "metadata": {
        "id": "cFyiDECS9IP-"
      }
    },
    {
      "cell_type": "code",
      "source": [
        "x=19\n",
        "print(x>18 and x<17)"
      ],
      "metadata": {
        "colab": {
          "base_uri": "https://localhost:8080/"
        },
        "id": "FiUMygj99K42",
        "outputId": "b3ece9d4-916e-4625-8fdd-0616452d0ec8"
      },
      "execution_count": null,
      "outputs": [
        {
          "output_type": "stream",
          "name": "stdout",
          "text": [
            "False\n"
          ]
        }
      ]
    },
    {
      "cell_type": "markdown",
      "source": [
        "not gate"
      ],
      "metadata": {
        "id": "oiYW0PI19rbE"
      }
    },
    {
      "cell_type": "code",
      "source": [
        "x = 5\n",
        "\n",
        "print(not(x > 3 and x < 10))\n"
      ],
      "metadata": {
        "colab": {
          "base_uri": "https://localhost:8080/"
        },
        "id": "oI59v6SN97su",
        "outputId": "5f7a17c2-bb11-48b1-91c7-507a65a83719"
      },
      "execution_count": null,
      "outputs": [
        {
          "output_type": "stream",
          "name": "stdout",
          "text": [
            "False\n"
          ]
        }
      ]
    },
    {
      "cell_type": "markdown",
      "source": [
        "list"
      ],
      "metadata": {
        "id": "xRcs0BC8NkOw"
      }
    },
    {
      "cell_type": "code",
      "source": [
        "thislist = [\"apple\", \"banana\", \"cherry\"]\n",
        "print(thislist)"
      ],
      "metadata": {
        "colab": {
          "base_uri": "https://localhost:8080/"
        },
        "id": "jIeae9lhPCub",
        "outputId": "3a0dfdc4-ab7b-46d3-b04e-7a080c3e09cc"
      },
      "execution_count": null,
      "outputs": [
        {
          "output_type": "stream",
          "name": "stdout",
          "text": [
            "['apple', 'banana', 'cherry']\n"
          ]
        }
      ]
    },
    {
      "cell_type": "markdown",
      "source": [
        "allowing list duplicates\n"
      ],
      "metadata": {
        "id": "4MxJ304LPpO-"
      }
    },
    {
      "cell_type": "code",
      "source": [
        "thislist=[\"akhil,aditya,khub,akhil,khub\"]\n",
        "print(thislist)"
      ],
      "metadata": {
        "colab": {
          "base_uri": "https://localhost:8080/"
        },
        "id": "AaDLqCfJP-Kn",
        "outputId": "ed8eeaf3-7d7f-4005-da06-a2babf0a5a57"
      },
      "execution_count": null,
      "outputs": [
        {
          "output_type": "stream",
          "name": "stdout",
          "text": [
            "['akhil,aditya,khub,akhil,khub']\n"
          ]
        }
      ]
    },
    {
      "cell_type": "markdown",
      "source": [
        "list  datatypes"
      ],
      "metadata": {
        "id": "UpgPj8NRQO8T"
      }
    },
    {
      "cell_type": "code",
      "source": [
        "list1=[\"apple\",\"banana\",\"aditya\"]\n",
        "list2=[1,2,3]\n",
        "list3=[True,False,True]\n",
        "print(list1)\n",
        "print(list2)\n",
        "print(list3)"
      ],
      "metadata": {
        "colab": {
          "base_uri": "https://localhost:8080/"
        },
        "id": "dHjaVuFQQbjp",
        "outputId": "a16ffa7a-eeda-48e7-cb18-bd0c290d910d"
      },
      "execution_count": null,
      "outputs": [
        {
          "output_type": "stream",
          "name": "stdout",
          "text": [
            "['apple', 'banana', 'aditya']\n",
            "[1, 2, 3]\n",
            "[True, False, True]\n"
          ]
        }
      ]
    },
    {
      "cell_type": "markdown",
      "source": [],
      "metadata": {
        "id": "zWLzlM_uRVkX"
      }
    },
    {
      "cell_type": "markdown",
      "source": [
        "my list"
      ],
      "metadata": {
        "id": "btLjDVflRlPQ"
      }
    },
    {
      "cell_type": "code",
      "source": [
        "mylist=[\"kiet\",\"kietk\",'kiew']\n",
        "print(type(mylist))"
      ],
      "metadata": {
        "colab": {
          "base_uri": "https://localhost:8080/"
        },
        "id": "FoqAcmjnRm4O",
        "outputId": "310131ee-2bb1-4bf5-e083-9666f59721ac"
      },
      "execution_count": null,
      "outputs": [
        {
          "output_type": "stream",
          "name": "stdout",
          "text": [
            "<class 'list'>\n"
          ]
        }
      ]
    },
    {
      "cell_type": "markdown",
      "source": [
        "list() constructor"
      ],
      "metadata": {
        "id": "4QFm9aYxSYhm"
      }
    },
    {
      "cell_type": "code",
      "source": [
        "thislist=list((\"range rover\",\"suzuki\",\"benz\"))\n",
        "print(thislist)"
      ],
      "metadata": {
        "colab": {
          "base_uri": "https://localhost:8080/"
        },
        "id": "xIfyx1zaShC-",
        "outputId": "989e556f-3629-403e-cef2-430b147acc81"
      },
      "execution_count": null,
      "outputs": [
        {
          "output_type": "stream",
          "name": "stdout",
          "text": [
            "['range rover', 'suzuki', 'benz']\n"
          ]
        }
      ]
    },
    {
      "cell_type": "markdown",
      "source": [
        "check list itemms"
      ],
      "metadata": {
        "id": "WKK_piDVTVJ7"
      }
    },
    {
      "cell_type": "code",
      "source": [
        "thislist=[\"usa\",\"india\",\"china\"]\n",
        "if \"india\" in thislist:\n",
        "  print(\"Yes, 'india' is in the list\")"
      ],
      "metadata": {
        "colab": {
          "base_uri": "https://localhost:8080/"
        },
        "id": "EUi7RcmWTlmp",
        "outputId": "6c019ab4-d44e-4216-a743-a079c10e199e"
      },
      "execution_count": null,
      "outputs": [
        {
          "output_type": "stream",
          "name": "stdout",
          "text": [
            "Yes, 'india' is in the list\n"
          ]
        }
      ]
    },
    {
      "cell_type": "markdown",
      "source": [
        "change list is also known as the repalcing the variables and numbers"
      ],
      "metadata": {
        "id": "qMda0MiDV_5g"
      }
    },
    {
      "cell_type": "code",
      "source": [
        "thislist=[\"icecream\",\"fruits\",\"chips\"]\n",
        "thislist[1]=[\"fruits\"]\n",
        "print(thislist)"
      ],
      "metadata": {
        "colab": {
          "base_uri": "https://localhost:8080/"
        },
        "id": "2XUTWn8tWF8g",
        "outputId": "a71b51a7-5ece-46d5-d896-decd7aad5f16"
      },
      "execution_count": null,
      "outputs": [
        {
          "output_type": "stream",
          "name": "stdout",
          "text": [
            "['icecream', ['fruits'], 'chips']\n"
          ]
        }
      ]
    },
    {
      "cell_type": "markdown",
      "source": [
        "change list range"
      ],
      "metadata": {
        "id": "-RbBmmhtXh1f"
      }
    },
    {
      "cell_type": "code",
      "source": [
        "thislist=[\"icecream\",\"fruits\",\"chips\"]\n",
        "thislist[1:3]=[\"juice\"]\n",
        "print(thislist)"
      ],
      "metadata": {
        "colab": {
          "base_uri": "https://localhost:8080/"
        },
        "id": "bXxPnZ14Xle_",
        "outputId": "37ea4df4-0e2a-4bff-ceee-8a18e87efdd1"
      },
      "execution_count": null,
      "outputs": [
        {
          "output_type": "stream",
          "name": "stdout",
          "text": [
            "['icecream', 'juice']\n"
          ]
        }
      ]
    },
    {
      "cell_type": "markdown",
      "source": [
        "inserting the list is nothingbut we can add the variable or number in the list in any position by using the insert.list"
      ],
      "metadata": {
        "id": "8UuQLDtAY0nA"
      }
    },
    {
      "cell_type": "code",
      "source": [
        "thislist=[1,2,4]\n",
        "thislist.insert(2,3)\n",
        "print(thislist)"
      ],
      "metadata": {
        "colab": {
          "base_uri": "https://localhost:8080/"
        },
        "id": "DRxAFgjPY3E9",
        "outputId": "ebbe49c4-f659-4263-a2d9-26fa62fcd796"
      },
      "execution_count": null,
      "outputs": [
        {
          "output_type": "stream",
          "name": "stdout",
          "text": [
            "[1, 2, 3, 4]\n"
          ]
        }
      ]
    },
    {
      "cell_type": "markdown",
      "source": [
        "remove list is known as we can remove the variable in number in the list by using the list.remove"
      ],
      "metadata": {
        "id": "ef8LgJdmZ2FH"
      }
    },
    {
      "cell_type": "code",
      "source": [
        "thislist=[1,2,3,4]\n",
        "thislist.remove(1)\n",
        "print(thislist)"
      ],
      "metadata": {
        "colab": {
          "base_uri": "https://localhost:8080/"
        },
        "id": "0AJcwLBUZ8pF",
        "outputId": "8e13f4c2-b9f1-4c8b-c0ca-48857d0df975"
      },
      "execution_count": null,
      "outputs": [
        {
          "output_type": "stream",
          "name": "stdout",
          "text": [
            "[2, 3, 4]\n"
          ]
        }
      ]
    },
    {
      "cell_type": "markdown",
      "source": [
        "loop in list is known as the it give in a line"
      ],
      "metadata": {
        "id": "nuqmmlgKdmu0"
      }
    },
    {
      "cell_type": "code",
      "source": [
        "thislist=[\"aditya\",\"akhil\",\"avenger\"]\n",
        "for x in thislist:\n",
        "  print(x)"
      ],
      "metadata": {
        "colab": {
          "base_uri": "https://localhost:8080/"
        },
        "id": "SIwDkGrvdxFw",
        "outputId": "ca64faf4-6846-440c-d6e1-756479e28fff"
      },
      "execution_count": null,
      "outputs": [
        {
          "output_type": "stream",
          "name": "stdout",
          "text": [
            "aditya\n",
            "akhil\n",
            "avenger\n"
          ]
        }
      ]
    },
    {
      "cell_type": "markdown",
      "source": [
        "using while in looplist"
      ],
      "metadata": {
        "id": "hV7ZhumMeZH4"
      }
    },
    {
      "cell_type": "code",
      "source": [
        "thislist=[\"akhil\",\"aditya\",\"avenger\"]\n",
        "i =0\n",
        "while i < len(thislist):\n",
        "  print(thislist[i])\n",
        "  i= i+1"
      ],
      "metadata": {
        "colab": {
          "base_uri": "https://localhost:8080/"
        },
        "id": "FsIbe603eoXq",
        "outputId": "f36a98d9-4df5-422f-9dda-3169c399ab3a"
      },
      "execution_count": null,
      "outputs": [
        {
          "output_type": "stream",
          "name": "stdout",
          "text": [
            "akhil\n",
            "aditya\n",
            "avenger\n"
          ]
        }
      ]
    },
    {
      "cell_type": "markdown",
      "source": [
        "list comprehension is known as the to find the words or numbers in the list by using new list if in range and also to add in the list by using append"
      ],
      "metadata": {
        "id": "PFtjQgaafxk7"
      }
    },
    {
      "cell_type": "markdown",
      "source": [],
      "metadata": {
        "id": "WCpSmxyUdl2j"
      }
    },
    {
      "cell_type": "code",
      "source": [
        "cars=[\"audi\",\"benz\",\"suzuki\",\"breeza\"]\n",
        "newlist=[]\n",
        "for x in cars:\n",
        "  if \"a\" in x :\n",
        "    newlist.append(x)\n",
        "    print(newlist)"
      ],
      "metadata": {
        "colab": {
          "base_uri": "https://localhost:8080/"
        },
        "id": "5iLHlavugm0G",
        "outputId": "23d6cba7-d57b-4779-ec3c-3379d8ba1070"
      },
      "execution_count": null,
      "outputs": [
        {
          "output_type": "stream",
          "name": "stdout",
          "text": [
            "['audi']\n",
            "['audi', 'breeza']\n"
          ]
        }
      ]
    },
    {
      "cell_type": "markdown",
      "source": [
        "sortlist descending is known as it sets the word or numerals in bigger to small"
      ],
      "metadata": {
        "id": "dSuxuaYVkHXt"
      }
    },
    {
      "cell_type": "code",
      "source": [
        "thislist=[\"zebra\",\"apple\",\"yellow\",\"nithin\",\"van\"]\n",
        "thislist.sort(reverse = True)\n",
        "print(thislist)"
      ],
      "metadata": {
        "colab": {
          "base_uri": "https://localhost:8080/"
        },
        "id": "2PzOrskIlNB3",
        "outputId": "999b5f3b-c315-46b3-9f8f-8c6210e2e7fb"
      },
      "execution_count": null,
      "outputs": [
        {
          "output_type": "stream",
          "name": "stdout",
          "text": [
            "['zebra', 'yellow', 'van', 'nithin', 'apple']\n"
          ]
        }
      ]
    },
    {
      "cell_type": "markdown",
      "source": [
        "list copy method is known as the it copies list variables, numeriacls in the added the list"
      ],
      "metadata": {
        "id": "IW_0_PyAnSCS"
      }
    },
    {
      "cell_type": "code",
      "source": [
        "thislist=[\"apple\",\"banana\",\"grapes\"]\n",
        "mylist=thislist.copy()\n",
        "print (thislist)"
      ],
      "metadata": {
        "colab": {
          "base_uri": "https://localhost:8080/"
        },
        "id": "kITYMj5pnjXO",
        "outputId": "bb54f537-bb7b-4323-de8d-32991bcda792"
      },
      "execution_count": null,
      "outputs": [
        {
          "output_type": "stream",
          "name": "stdout",
          "text": [
            "['apple', 'banana', 'grapes']\n"
          ]
        }
      ]
    },
    {
      "cell_type": "markdown",
      "source": [
        "we can also make a copy by using slice operator"
      ],
      "metadata": {
        "id": "WAxmQJJco5Pj"
      }
    },
    {
      "cell_type": "code",
      "source": [
        "thislist=[\"aditya\",\"akhil\",\"avenger\"]\n",
        "mylist= thislist[:]\n",
        "print(thislist)"
      ],
      "metadata": {
        "colab": {
          "base_uri": "https://localhost:8080/"
        },
        "id": "UfYsF0xupCG4",
        "outputId": "424b4b80-2959-4c31-c700-a3bab553e2c8"
      },
      "execution_count": null,
      "outputs": [
        {
          "output_type": "stream",
          "name": "stdout",
          "text": [
            "['aditya', 'akhil', 'avenger']\n"
          ]
        }
      ]
    },
    {
      "cell_type": "markdown",
      "source": [
        "join list is known as the adding the two list"
      ],
      "metadata": {
        "id": "PZ8MaZt2p5bl"
      }
    },
    {
      "cell_type": "code",
      "source": [
        "list1=[\"khub\",\"toastmaster\",\"gcc\"]\n",
        "list2=[\"class1\",\"class2\",\"class3\",]\n",
        "list3=list1+list2\n",
        "print(list3)"
      ],
      "metadata": {
        "colab": {
          "base_uri": "https://localhost:8080/"
        },
        "id": "JE7d5s2Dp_yZ",
        "outputId": "df18e813-873e-4630-ba99-1983a7e46898"
      },
      "execution_count": null,
      "outputs": [
        {
          "output_type": "stream",
          "name": "stdout",
          "text": [
            "['khub', 'toastmaster', 'gcc', 'class1', 'class2', 'class3']\n"
          ]
        }
      ]
    },
    {
      "cell_type": "code",
      "source": [
        "list1=[\"khub\",\"toastmaster\",\"gcc\"]\n",
        "list2=[\"class1\",\"class2\",\"class3\"]\n",
        "for x in list2:\n",
        "  list1.append(x)\n",
        "  print(list1)"
      ],
      "metadata": {
        "colab": {
          "base_uri": "https://localhost:8080/"
        },
        "id": "mTsLpdkmrcxb",
        "outputId": "933cf7aa-8abc-49b1-f8be-455da29c8f83"
      },
      "execution_count": null,
      "outputs": [
        {
          "output_type": "stream",
          "name": "stdout",
          "text": [
            "['khub', 'toastmaster', 'gcc', 'class1']\n",
            "['khub', 'toastmaster', 'gcc', 'class1', 'class2']\n",
            "['khub', 'toastmaster', 'gcc', 'class1', 'class2', 'class3']\n"
          ]
        }
      ]
    },
    {
      "cell_type": "markdown",
      "source": [
        "list methods in clear to remove the information in list"
      ],
      "metadata": {
        "id": "Gl0rOgmwsloV"
      }
    },
    {
      "cell_type": "code",
      "source": [
        "cities=[\"usa\",\"india\",\"china\"]\n",
        "cities.clear()\n",
        "print(cities)"
      ],
      "metadata": {
        "colab": {
          "base_uri": "https://localhost:8080/"
        },
        "id": "tk2aegDrtAi9",
        "outputId": "0c5281dc-9f0e-4076-a609-3a9ae7093275"
      },
      "execution_count": null,
      "outputs": [
        {
          "output_type": "stream",
          "name": "stdout",
          "text": [
            "[]\n"
          ]
        }
      ]
    },
    {
      "cell_type": "markdown",
      "source": [
        "extend is known as the adding one list to another"
      ],
      "metadata": {
        "id": "koJXj66_tzAZ"
      }
    },
    {
      "cell_type": "code",
      "source": [
        "fruits=[\"apple\",\"banana\",\"grapes\"]\n",
        "cars=[\"audi\",\"benz\",\"suzuki\"]\n",
        "fruits.extend(cars)\n",
        "print(fruits)"
      ],
      "metadata": {
        "colab": {
          "base_uri": "https://localhost:8080/"
        },
        "id": "gysxdDyRt7gU",
        "outputId": "4cc6f122-a66d-4aab-bc6b-e2c991b1fcb1"
      },
      "execution_count": null,
      "outputs": [
        {
          "output_type": "stream",
          "name": "stdout",
          "text": [
            "['apple', 'banana', 'grapes', 'audi', 'benz', 'suzuki']\n"
          ]
        }
      ]
    },
    {
      "cell_type": "markdown",
      "source": [
        "pop removes the element in the specific position"
      ],
      "metadata": {
        "id": "IT-rdjIVukql"
      }
    },
    {
      "cell_type": "code",
      "source": [
        "fruits=[\"apple\",\"banana\",\"grapes\"]\n",
        "fruits.pop(1)\n",
        "print(fruits)"
      ],
      "metadata": {
        "colab": {
          "base_uri": "https://localhost:8080/"
        },
        "id": "KNbemQd4uuDo",
        "outputId": "9c7e6e9c-e9c9-4b2d-930a-9b72699d7667"
      },
      "execution_count": null,
      "outputs": [
        {
          "output_type": "stream",
          "name": "stdout",
          "text": [
            "['apple', 'grapes']\n"
          ]
        }
      ]
    },
    {
      "cell_type": "markdown",
      "source": [
        "creating tuples"
      ],
      "metadata": {
        "id": "W5W1iSV7vY0e"
      }
    },
    {
      "cell_type": "code",
      "source": [
        "thistuple=(\"apple\",\"banana\",\"cherry\")\n",
        "print(thistuple)"
      ],
      "metadata": {
        "colab": {
          "base_uri": "https://localhost:8080/"
        },
        "id": "G48qrVLHvpa5",
        "outputId": "261a3639-655c-451f-8a3b-9f0ee8b860c6"
      },
      "execution_count": null,
      "outputs": [
        {
          "output_type": "stream",
          "name": "stdout",
          "text": [
            "('apple', 'banana', 'cherry')\n"
          ]
        }
      ]
    },
    {
      "cell_type": "markdown",
      "source": [
        "creating tuple length it finds in the numerically in lenght"
      ],
      "metadata": {
        "id": "1nFixHEcwihe"
      }
    },
    {
      "cell_type": "code",
      "source": [
        "my_tuple = (\"apple\",\"banana\",\"orange\")\n",
        "print(len(my_tuple))"
      ],
      "metadata": {
        "colab": {
          "base_uri": "https://localhost:8080/"
        },
        "id": "aHioQGS8woJD",
        "outputId": "65d567d4-be0e-49a9-d873-a618d86f32b9"
      },
      "execution_count": null,
      "outputs": [
        {
          "output_type": "stream",
          "name": "stdout",
          "text": [
            "3\n"
          ]
        }
      ]
    },
    {
      "cell_type": "markdown",
      "source": [
        "tuple data types can be of many types"
      ],
      "metadata": {
        "id": "Y4XWH33Pw-RW"
      }
    },
    {
      "cell_type": "code",
      "source": [
        "tuple1=[\"parrot\",\"sparrow\",\"peacock\"]\n",
        "tuple2=[1,2,3]\n",
        "tuple3=[True,False,True]\n",
        "print(tuple1)\n",
        "print(tuple2)\n",
        "print(tuple3)"
      ],
      "metadata": {
        "colab": {
          "base_uri": "https://localhost:8080/"
        },
        "id": "EEAC3zgRyTas",
        "outputId": "9b5c5666-2854-4b15-a85e-6308fa0b7ab2"
      },
      "execution_count": null,
      "outputs": [
        {
          "output_type": "stream",
          "name": "stdout",
          "text": [
            "['parrot', 'sparrow', 'peacock']\n",
            "[1, 2, 3]\n",
            "[True, False, True]\n"
          ]
        }
      ]
    },
    {
      "cell_type": "markdown",
      "source": [
        "tuple constructor is known as the activate another tuple in the tuple"
      ],
      "metadata": {
        "id": "_kbFx1JlzfmH"
      }
    },
    {
      "cell_type": "code",
      "source": [
        "thistype=((\"apple,\",\"banana\",\"cherry\"))\n",
        "print(thistuple)"
      ],
      "metadata": {
        "colab": {
          "base_uri": "https://localhost:8080/"
        },
        "id": "fUrXAdYYzsmT",
        "outputId": "7949e4b4-3520-4459-da73-6d51ccdeca7f"
      },
      "execution_count": null,
      "outputs": [
        {
          "output_type": "stream",
          "name": "stdout",
          "text": [
            "('apple', 'banana', 'cherry')\n"
          ]
        }
      ]
    },
    {
      "cell_type": "markdown",
      "source": [
        "we can access tuple items by refering index also"
      ],
      "metadata": {
        "id": "uYK-xBGU0ddA"
      }
    },
    {
      "cell_type": "code",
      "source": [
        "thistuple=[\"apple\",\"banana\",\"cherry\"]\n",
        "print(thistuple[1])"
      ],
      "metadata": {
        "colab": {
          "base_uri": "https://localhost:8080/"
        },
        "id": "F7VeRbDl0om3",
        "outputId": "9fc34ad1-ea86-4dab-b86b-908997f2c795"
      },
      "execution_count": null,
      "outputs": [
        {
          "output_type": "stream",
          "name": "stdout",
          "text": [
            "banana\n"
          ]
        }
      ]
    },
    {
      "cell_type": "markdown",
      "source": [
        "updating the tuples into list and then we can convert them into tuple again"
      ],
      "metadata": {
        "id": "hPofV7Qs1C7B"
      }
    },
    {
      "cell_type": "code",
      "source": [
        "x=[\"apple\",\"banana\",\"grapes\"]\n",
        "y=list(x)\n",
        "y[1]=\"kiwi\"\n",
        "x=tuple(y)\n",
        "print(x)"
      ],
      "metadata": {
        "colab": {
          "base_uri": "https://localhost:8080/"
        },
        "id": "D64m3rXl1QpJ",
        "outputId": "859a75e6-44e3-4f0a-9308-c2cc147e9122"
      },
      "execution_count": null,
      "outputs": [
        {
          "output_type": "stream",
          "name": "stdout",
          "text": [
            "('apple', 'kiwi', 'grapes')\n"
          ]
        }
      ]
    },
    {
      "cell_type": "markdown",
      "source": [
        "loop tuples in this we can use for"
      ],
      "metadata": {
        "id": "25gxJIy02j3V"
      }
    },
    {
      "cell_type": "code",
      "source": [
        "thistuple=[\"apple\",\"banana\",\"grapes\"]\n",
        "for x in thistuple:\n",
        "  print(x)"
      ],
      "metadata": {
        "colab": {
          "base_uri": "https://localhost:8080/"
        },
        "id": "pUM48gCZ2yqE",
        "outputId": "ce230ed8-5195-425d-c966-b5fa3fb84ca7"
      },
      "execution_count": null,
      "outputs": [
        {
          "output_type": "stream",
          "name": "stdout",
          "text": [
            "apple\n",
            "banana\n",
            "grapes\n"
          ]
        }
      ]
    },
    {
      "cell_type": "markdown",
      "source": [
        "sets sets cannot have two items have duplicate value"
      ],
      "metadata": {
        "id": "_Ob1TjC9Ghv1"
      }
    },
    {
      "cell_type": "code",
      "source": [
        "thisset={\"apple\",\"banana\",\"cherry\"}\n",
        "print(thisset)"
      ],
      "metadata": {
        "colab": {
          "base_uri": "https://localhost:8080/"
        },
        "id": "AsxECJ5yGzoA",
        "outputId": "0927656e-2c82-43c2-a2e8-477ea577f49f"
      },
      "execution_count": null,
      "outputs": [
        {
          "output_type": "stream",
          "name": "stdout",
          "text": [
            "{'apple', 'cherry', 'banana'}\n"
          ]
        }
      ]
    },
    {
      "cell_type": "markdown",
      "source": [
        "set can be any data type"
      ],
      "metadata": {
        "id": "H_JCkSd4Huyv"
      }
    },
    {
      "cell_type": "code",
      "source": [
        "from os import truncate\n",
        "set1={\"apple\",\"banana\",\"cherry\"}\n",
        "set2={1,2,3}\n",
        "set3={True,False,True}\n",
        "print(set1)\n",
        "print(set2)\n",
        "print(set3)"
      ],
      "metadata": {
        "colab": {
          "base_uri": "https://localhost:8080/"
        },
        "id": "MvMgaGMmH0f8",
        "outputId": "bd58052d-3deb-46e0-d90a-c37991556a9a"
      },
      "execution_count": null,
      "outputs": [
        {
          "output_type": "stream",
          "name": "stdout",
          "text": [
            "{'apple', 'cherry', 'banana'}\n",
            "{1, 2, 3}\n",
            "{False, True}\n"
          ]
        }
      ]
    },
    {
      "cell_type": "markdown",
      "source": [
        "we can remove set by using the discard"
      ],
      "metadata": {
        "id": "-6D97P1LIsaP"
      }
    },
    {
      "cell_type": "code",
      "source": [
        "thisset={\"usa\",\"india\",\"china\"}\n",
        "thisset.discard(\"india\")\n",
        "print(thisset)"
      ],
      "metadata": {
        "colab": {
          "base_uri": "https://localhost:8080/"
        },
        "id": "Gmq_IaW6JC0x",
        "outputId": "7ec91d6a-6ec2-4a2e-8e3d-42d25dd4634c"
      },
      "execution_count": null,
      "outputs": [
        {
          "output_type": "stream",
          "name": "stdout",
          "text": [
            "{'usa', 'china'}\n"
          ]
        }
      ]
    },
    {
      "cell_type": "markdown",
      "source": [
        "union set returns with all the small set wit new"
      ],
      "metadata": {
        "id": "Jcg9nkkaMuqP"
      }
    },
    {
      "cell_type": "code",
      "source": [
        "set1={\"america,\",\"thailand\",\"india\"}\n",
        "set2={1,2,3}\n",
        "set3=set2.union(set1)\n",
        "print(set3)"
      ],
      "metadata": {
        "colab": {
          "base_uri": "https://localhost:8080/"
        },
        "id": "VCWNqLCRM8zv",
        "outputId": "594521d0-c900-4e60-82d8-81ed67820856"
      },
      "execution_count": null,
      "outputs": [
        {
          "output_type": "stream",
          "name": "stdout",
          "text": [
            "{'america,', 1, 2, 3, 'india', 'thailand'}\n"
          ]
        }
      ]
    },
    {
      "cell_type": "markdown",
      "source": [
        "set methods that we use can in sets"
      ],
      "metadata": {
        "id": "BtsLG3u-PvYj"
      }
    },
    {
      "cell_type": "code",
      "source": [
        "cars={\"enova\",\"benz\",\"suzuki\"}\n",
        "cars.add('maruti')\n",
        "print(cars)"
      ],
      "metadata": {
        "colab": {
          "base_uri": "https://localhost:8080/"
        },
        "id": "K0ICsu8WQlLG",
        "outputId": "88d1860a-c2ad-4d27-9d82-33b42c8006b5"
      },
      "execution_count": null,
      "outputs": [
        {
          "output_type": "stream",
          "name": "stdout",
          "text": [
            "{'benz', 'enova', 'suzuki', 'maruti'}\n"
          ]
        }
      ]
    },
    {
      "cell_type": "markdown",
      "source": [
        "python dictionaries"
      ],
      "metadata": {
        "id": "Tb33_recR8Cq"
      }
    },
    {
      "cell_type": "code",
      "source": [
        "car={\n",
        "    \"brand\":\"ford\",\n",
        "    \"MOdel\":\"mustang\",\n",
        "    \"year\":\"1964\",\n",
        "}\n",
        "x= car.keys()\n",
        "print(x)\n",
        "\n",
        "car[\"color\"]=\"white\"\n",
        "print(x)"
      ],
      "metadata": {
        "colab": {
          "base_uri": "https://localhost:8080/"
        },
        "id": "ErVU76tPUCoQ",
        "outputId": "ab47aed8-e7d8-4c2a-b5d6-29ecc9522e1d"
      },
      "execution_count": null,
      "outputs": [
        {
          "output_type": "stream",
          "name": "stdout",
          "text": [
            "dict_keys(['brand', 'MOdel', 'year'])\n",
            "dict_keys(['brand', 'MOdel', 'year', 'color'])\n"
          ]
        }
      ]
    },
    {
      "cell_type": "markdown",
      "source": [
        "changing the dictionaries by using thisdict"
      ],
      "metadata": {
        "id": "-TQXM-LOV65b"
      }
    },
    {
      "cell_type": "code",
      "source": [
        "thisdict={\n",
        "    \"brand\":\"suzuki\",\n",
        "    \"model\":\"ertiga\",\n",
        "    \"year\":\"2018\"\n",
        "}\n",
        "\n",
        "thisdict[\"year\"]=2015\n",
        "print(thisdict)"
      ],
      "metadata": {
        "colab": {
          "base_uri": "https://localhost:8080/"
        },
        "id": "oRNqUviuWBxi",
        "outputId": "b9b3b615-6bdc-47a0-c8a9-b6bf77fe2d0a"
      },
      "execution_count": null,
      "outputs": [
        {
          "output_type": "stream",
          "name": "stdout",
          "text": [
            "{'brand': 'suzuki', 'model': 'ertiga', 'year': 2015}\n"
          ]
        }
      ]
    },
    {
      "cell_type": "markdown",
      "source": [
        "updating the values in dictionaries"
      ],
      "metadata": {
        "id": "dirF8KJuW78-"
      }
    },
    {
      "cell_type": "code",
      "source": [
        "thisdict={\n",
        "    \"brand\":\"benz\",\n",
        "    \"model\":\"xc60\",\n",
        "    \"year\":\"2020\",\n",
        "}\n",
        "thisdict.update({\"Color\":\"red\"})\n",
        "print(thisdict)"
      ],
      "metadata": {
        "colab": {
          "base_uri": "https://localhost:8080/"
        },
        "id": "kVtykdrMXBxU",
        "outputId": "ae200c1c-7a84-414f-fcd8-d2bb127018c1"
      },
      "execution_count": null,
      "outputs": [
        {
          "output_type": "stream",
          "name": "stdout",
          "text": [
            "{'brand': 'benz', 'model': 'xc60', 'year': '2020', 'Color': 'red'}\n"
          ]
        }
      ]
    },
    {
      "cell_type": "markdown",
      "source": [
        "using copy method in dictionaries"
      ],
      "metadata": {
        "id": "azO5UE_6YC6K"
      }
    },
    {
      "cell_type": "code",
      "source": [
        "thisdict={\n",
        "    \"brand\":\"audi\",\n",
        "    \"model\":\"y40\",\n",
        "    \"year\":\"2021\"\n",
        "}\n",
        "mydict= dict(thisdict)\n",
        "print(mydict)"
      ],
      "metadata": {
        "colab": {
          "base_uri": "https://localhost:8080/"
        },
        "id": "qxgZtsfiYH8c",
        "outputId": "29f1d2aa-4fd6-4a91-ff20-069eb1908ccb"
      },
      "execution_count": null,
      "outputs": [
        {
          "output_type": "stream",
          "name": "stdout",
          "text": [
            "{'brand': 'audi', 'model': 'y40', 'year': '2021'}\n"
          ]
        }
      ]
    },
    {
      "cell_type": "markdown",
      "source": [
        "nexted dictionaries also called also dictionaries"
      ],
      "metadata": {
        "id": "LEG-gzJGZMj3"
      }
    },
    {
      "cell_type": "code",
      "source": [
        "myfamily = {\n",
        "  \"child1\" : {\n",
        "    \"name\" : \"aditya\",\n",
        "    \"year\" : 2004\n",
        "  },\n",
        "  \"child2\" : {\n",
        "    \"name\" : \"akash\",\n",
        "    \"year\" : 2007\n",
        "  },\n",
        "  \"child3\" : {\n",
        "    \"name\" : \"pradeep\",\n",
        "    \"year\" : 2011\n",
        "  }\n",
        "}\n",
        "print(myfamily)"
      ],
      "metadata": {
        "colab": {
          "base_uri": "https://localhost:8080/"
        },
        "id": "2KaqujN7ZYQv",
        "outputId": "6411c2ac-776d-4754-911f-bf5313bf5b09"
      },
      "execution_count": null,
      "outputs": [
        {
          "output_type": "stream",
          "name": "stdout",
          "text": [
            "{'child1': {'name': 'aditya', 'year': 2004}, 'child2': {'name': 'akash', 'year': 2007}, 'child3': {'name': 'pradeep', 'year': 2011}}\n"
          ]
        }
      ]
    },
    {
      "cell_type": "markdown",
      "source": [
        "dictionary keys it creates keys with the value y values to x"
      ],
      "metadata": {
        "id": "XMXomNiLaQzZ"
      }
    },
    {
      "cell_type": "code",
      "source": [
        "x = ('key1', 'key2', 'key3')\n",
        "y = (1, 2, 3)\n",
        "\n",
        "result = dict(zip(y, x))\n",
        "print(result)"
      ],
      "metadata": {
        "colab": {
          "base_uri": "https://localhost:8080/"
        },
        "id": "aWQHn9VEac7z",
        "outputId": "12747a15-bd7b-4ca8-cca1-7d67237b83d6"
      },
      "execution_count": null,
      "outputs": [
        {
          "output_type": "stream",
          "name": "stdout",
          "text": [
            "{1: 'key1', 2: 'key2', 3: 'key3'}\n"
          ]
        }
      ]
    },
    {
      "cell_type": "markdown",
      "source": [
        "python dictionary update method"
      ],
      "metadata": {
        "id": "2ZhOxWMMycHQ"
      }
    },
    {
      "cell_type": "code",
      "source": [
        "car = {\n",
        "  \"brand\": \"Ford\",\n",
        "  \"model\": \"Mustang\",\n",
        "  \"year\": 1964\n",
        "}\n",
        "car.update({\"color\": \"White\"})\n",
        "print(car)"
      ],
      "metadata": {
        "colab": {
          "base_uri": "https://localhost:8080/"
        },
        "id": "hzPsh_rIyggv",
        "outputId": "22dc94c4-f218-4251-9dad-8dfe5e0ff357"
      },
      "execution_count": null,
      "outputs": [
        {
          "output_type": "stream",
          "name": "stdout",
          "text": [
            "{'brand': 'Ford', 'model': 'Mustang', 'year': 1964, 'color': 'White'}\n"
          ]
        }
      ]
    },
    {
      "cell_type": "markdown",
      "source": [
        "python elif it tries another condition when previous condition were true"
      ],
      "metadata": {
        "id": "EDc2E3Coy6eZ"
      }
    },
    {
      "cell_type": "code",
      "source": [
        "a = 99\n",
        "b = 99\n",
        "if b > a:\n",
        "  print(\"b is greater than a\")\n",
        "elif a == b:\n",
        "  print(\"a and b are equal\")\n"
      ],
      "metadata": {
        "colab": {
          "base_uri": "https://localhost:8080/"
        },
        "id": "TmIp-hRfzIjc",
        "outputId": "76f460d4-ebb8-4296-9e2c-429ec663f5a5"
      },
      "execution_count": null,
      "outputs": [
        {
          "output_type": "stream",
          "name": "stdout",
          "text": [
            "a and b are equal\n"
          ]
        }
      ]
    },
    {
      "cell_type": "markdown",
      "source": [
        "else condition it is preceding condition it checks the condition and execute"
      ],
      "metadata": {
        "id": "afbfVPMqzWR3"
      }
    },
    {
      "cell_type": "code",
      "source": [
        "a = 50\n",
        "b = 16\n",
        "if b > a:\n",
        "  print(\"b is greater than a\")\n",
        "elif a == b:\n",
        "  print(\"a and b are equal\")\n",
        "else:\n",
        "  print(\"a is greater than b\")"
      ],
      "metadata": {
        "colab": {
          "base_uri": "https://localhost:8080/"
        },
        "id": "oIQuZj_ozbdc",
        "outputId": "fa6a44ba-907c-424c-bcde-881d0edbd13c"
      },
      "execution_count": null,
      "outputs": [
        {
          "output_type": "stream",
          "name": "stdout",
          "text": [
            "a is greater than b\n"
          ]
        }
      ]
    },
    {
      "cell_type": "markdown",
      "source": [
        "short hand if else it executes code in one line"
      ],
      "metadata": {
        "id": "_TuZJ7mLz4ZK"
      }
    },
    {
      "cell_type": "code",
      "source": [
        "a = 6\n",
        "b = 240\n",
        "print(\"A\") if a > b else print(\"B\")"
      ],
      "metadata": {
        "colab": {
          "base_uri": "https://localhost:8080/"
        },
        "id": "W2Azn5Dg0QYq",
        "outputId": "bbcc7512-9c3c-46f9-db12-381eaa6b457d"
      },
      "execution_count": null,
      "outputs": [
        {
          "output_type": "stream",
          "name": "stdout",
          "text": [
            "B\n"
          ]
        }
      ]
    },
    {
      "cell_type": "markdown",
      "source": [
        "And gate condition is used to combine conditional statements"
      ],
      "metadata": {
        "id": "rHDXbn8y0eGW"
      }
    },
    {
      "cell_type": "code",
      "source": [
        "a = 300\n",
        "b = 13\n",
        "c = 470\n",
        "if a > b and c > a:\n",
        "  print(\"Both conditions are True\")"
      ],
      "metadata": {
        "colab": {
          "base_uri": "https://localhost:8080/"
        },
        "id": "DDRrjQib0sOO",
        "outputId": "01c9f976-d45e-433a-acfa-f24beca135f2"
      },
      "execution_count": null,
      "outputs": [
        {
          "output_type": "stream",
          "name": "stdout",
          "text": [
            "Both conditions are True\n"
          ]
        }
      ]
    },
    {
      "cell_type": "markdown",
      "source": [
        "it is logical operator and it is used in combine statements"
      ],
      "metadata": {
        "id": "DUjErKEQ01w2"
      }
    },
    {
      "cell_type": "code",
      "source": [
        "a = 100\n",
        "b = 66\n",
        "c = 460\n",
        "if a > b or a > c:\n",
        "  print(\"At least one of the conditions is True\")\n"
      ],
      "metadata": {
        "colab": {
          "base_uri": "https://localhost:8080/"
        },
        "id": "RRj3F2Xv1Axr",
        "outputId": "cad39321-ff9d-4c3b-8775-d26e056af95c"
      },
      "execution_count": null,
      "outputs": [
        {
          "output_type": "stream",
          "name": "stdout",
          "text": [
            "At least one of the conditions is True\n"
          ]
        }
      ]
    },
    {
      "cell_type": "markdown",
      "source": [
        "when if statement is in inside if statements"
      ],
      "metadata": {
        "id": "mzmFHV_L1NX2"
      }
    },
    {
      "cell_type": "code",
      "source": [
        "x = 41\n",
        "if x > 10:\n",
        "  print(\"Above ten,\")\n",
        "  if x > 20:\n",
        "    print(\"and also above 20!\")\n",
        "  else:\n",
        "    print(\"but not above 20.\")\n"
      ],
      "metadata": {
        "colab": {
          "base_uri": "https://localhost:8080/"
        },
        "id": "tNaDI07F1dp_",
        "outputId": "4b7628b3-8df9-4ea4-b1a5-d9fa4142dd2e"
      },
      "execution_count": null,
      "outputs": [
        {
          "output_type": "stream",
          "name": "stdout",
          "text": [
            "Above ten,\n",
            "and also above 20!\n"
          ]
        }
      ]
    },
    {
      "cell_type": "markdown",
      "source": [
        "matchcase statement is used different actions based on it conditions"
      ],
      "metadata": {
        "id": "mQxYcSlH1_DV"
      }
    },
    {
      "cell_type": "code",
      "source": [
        "day=4\n",
        "match day:\n",
        "  case 1:\n",
        "    print(\"Monday\")\n",
        "  case 2:\n",
        "    print(\"Tuesday\")\n",
        "  case 3:\n",
        "    print(\"Wednesday\")\n",
        "  case 4:\n",
        "    print(\"Thursday\")\n",
        "  case 5:\n",
        "    print(\"Friday\")\n",
        "  case 6:\n",
        "    print(\"Saturday\")\n",
        "  case 7:\n",
        "    print(\"Sunday\")\n"
      ],
      "metadata": {
        "colab": {
          "base_uri": "https://localhost:8080/"
        },
        "id": "Ietwzd2k2Noa",
        "outputId": "8b6995e7-0ce5-4738-b126-d54378b5b90f"
      },
      "execution_count": null,
      "outputs": [
        {
          "output_type": "stream",
          "name": "stdout",
          "text": [
            "Thursday\n"
          ]
        }
      ]
    },
    {
      "cell_type": "markdown",
      "source": [
        " using this pip charactercombine values it checks the case value more than one case value"
      ],
      "metadata": {
        "id": "_53txojM2lEF"
      }
    },
    {
      "cell_type": "code",
      "source": [
        "day = 3\n",
        "match day:\n",
        "  case 1 | 2 | 3 | 4 | 5:\n",
        "    print(\"Today is a weekday\")\n",
        "  case 6 | 7:\n",
        "    print(\"I love weekends!\")\n"
      ],
      "metadata": {
        "colab": {
          "base_uri": "https://localhost:8080/"
        },
        "id": "rQiO8vgs3BWl",
        "outputId": "a49e092a-d0eb-4f65-fa99-c74d3403b0d7"
      },
      "execution_count": null,
      "outputs": [
        {
          "output_type": "stream",
          "name": "stdout",
          "text": [
            "Today is a weekday\n"
          ]
        }
      ]
    },
    {
      "cell_type": "markdown",
      "source": [
        "**DAY2**"
      ],
      "metadata": {
        "id": "BJ62lxexVxT8"
      }
    },
    {
      "cell_type": "markdown",
      "source": [
        "python for loop is used for iterating over a sequence"
      ],
      "metadata": {
        "id": "bQdv-YARWceb"
      }
    },
    {
      "cell_type": "code",
      "source": [
        "fruits=[\"apple\",\"banana\",\"cherry\"]\n",
        "for x in fruits:\n",
        "  print(x)"
      ],
      "metadata": {
        "colab": {
          "base_uri": "https://localhost:8080/"
        },
        "id": "RgTbdRGKV5GY",
        "outputId": "9f3c0290-0669-4f5e-9870-78c043edb040"
      },
      "execution_count": null,
      "outputs": [
        {
          "output_type": "stream",
          "name": "stdout",
          "text": [
            "apple\n",
            "banana\n",
            "cherry\n"
          ]
        }
      ]
    },
    {
      "cell_type": "markdown",
      "source": [
        "using break statement using in loop break statement we can stop loop before it has looped"
      ],
      "metadata": {
        "id": "hIA1zHgzXGpE"
      }
    },
    {
      "cell_type": "code",
      "source": [
        "fruits=[\"apple,\",\"banana\",\"cherry\",]\n",
        "for x in fruits:\n",
        "  print(x)\n",
        "  if x==\"banana\":\n",
        "    break"
      ],
      "metadata": {
        "colab": {
          "base_uri": "https://localhost:8080/"
        },
        "id": "wwLNL0XVX_Y-",
        "outputId": "137a06b0-7f8a-4da6-dbf4-cef8ec430ff0"
      },
      "execution_count": null,
      "outputs": [
        {
          "output_type": "stream",
          "name": "stdout",
          "text": [
            "apple,\n",
            "banana\n"
          ]
        }
      ]
    },
    {
      "cell_type": "markdown",
      "source": [
        "with continue statement we can stop the iteration of the loop"
      ],
      "metadata": {
        "id": "9WxxAEvxZlsx"
      }
    },
    {
      "cell_type": "code",
      "source": [
        "cars =[\"bugati\",\"range rover\",\"enova\"]\n",
        "for x in cars:\n",
        "  if x ==\"range rover\":\n",
        "    continue\n",
        "  print(x)"
      ],
      "metadata": {
        "colab": {
          "base_uri": "https://localhost:8080/"
        },
        "id": "VaVfC6N_Z37B",
        "outputId": "b718d10e-5ae8-4fee-c9c0-2a1f1a0bc6f2"
      },
      "execution_count": null,
      "outputs": [
        {
          "output_type": "stream",
          "name": "stdout",
          "text": [
            "bugati\n",
            "enova\n"
          ]
        }
      ]
    },
    {
      "cell_type": "markdown",
      "source": [
        "to loop that the number of specificed number of items we can use for the range function"
      ],
      "metadata": {
        "id": "QeFEe5Vwbn21"
      }
    },
    {
      "cell_type": "code",
      "source": [
        "for x in range(7):\n",
        "  print(x)"
      ],
      "metadata": {
        "colab": {
          "base_uri": "https://localhost:8080/"
        },
        "id": "52VNWRjFcbYu",
        "outputId": "9d747f9e-c5d2-4ea9-bf9c-819918a0d327"
      },
      "execution_count": null,
      "outputs": [
        {
          "output_type": "stream",
          "name": "stdout",
          "text": [
            "0\n",
            "1\n",
            "2\n",
            "3\n",
            "4\n",
            "5\n",
            "6\n"
          ]
        }
      ]
    },
    {
      "cell_type": "code",
      "source": [
        "for x in range(2,30,3):\n",
        "  print(x)"
      ],
      "metadata": {
        "colab": {
          "base_uri": "https://localhost:8080/"
        },
        "id": "Ame8-q--dYRZ",
        "outputId": "182b9907-9bc8-40a6-892a-0c59fb156217"
      },
      "execution_count": null,
      "outputs": [
        {
          "output_type": "stream",
          "name": "stdout",
          "text": [
            "2\n",
            "5\n",
            "8\n",
            "11\n",
            "14\n",
            "17\n",
            "20\n",
            "23\n",
            "26\n",
            "29\n"
          ]
        }
      ]
    },
    {
      "cell_type": "markdown",
      "source": [
        " else keyword in a for loop it mentions a block of code to be executed when the loop is finished"
      ],
      "metadata": {
        "id": "h7AmKZ7hetb6"
      }
    },
    {
      "cell_type": "code",
      "source": [
        "for x in range(10):\n",
        "  print(x)\n",
        "else:\n",
        "  print (\"finally finished!\")"
      ],
      "metadata": {
        "colab": {
          "base_uri": "https://localhost:8080/"
        },
        "id": "Wu7bVBGnfBRK",
        "outputId": "a50dd1b1-acef-4416-97f6-bc6344ccf30d"
      },
      "execution_count": null,
      "outputs": [
        {
          "output_type": "stream",
          "name": "stdout",
          "text": [
            "0\n",
            "1\n",
            "2\n",
            "3\n",
            "4\n",
            "5\n",
            "6\n",
            "7\n",
            "8\n",
            "9\n",
            "finally finished!\n"
          ]
        }
      ]
    },
    {
      "cell_type": "markdown",
      "source": [
        "in else now iam using break statement for break the loop"
      ],
      "metadata": {
        "id": "6X82RqvDgIf2"
      }
    },
    {
      "cell_type": "code",
      "source": [
        "for x in range(6):\n",
        "  if x==3:\n",
        "    break\n",
        "  print(x)\n",
        "else:\n",
        "  print(\"finally finished!\")"
      ],
      "metadata": {
        "colab": {
          "base_uri": "https://localhost:8080/"
        },
        "id": "G-zUq3j0hudO",
        "outputId": "bf5bcd6a-584e-442b-c8c8-7f53f34f3569"
      },
      "execution_count": null,
      "outputs": [
        {
          "output_type": "stream",
          "name": "stdout",
          "text": [
            "0\n",
            "1\n",
            "2\n"
          ]
        }
      ]
    },
    {
      "cell_type": "markdown",
      "source": [
        "iam using string in for loop to count the vowels in the given text"
      ],
      "metadata": {
        "id": "hdXvm1e8kzZt"
      }
    },
    {
      "cell_type": "code",
      "source": [
        "text=\"aeroplane\"\n",
        "vowels=\"aeiouAEIOU\"\n",
        "count=0\n",
        "for char in text:\n",
        "  if char in vowels:\n",
        "    count += 1\n",
        "    print(\"vowel count:\",count)\n"
      ],
      "metadata": {
        "colab": {
          "base_uri": "https://localhost:8080/"
        },
        "id": "k0bSvcGMk8aa",
        "outputId": "2162e8a4-b375-4c7b-ea82-e5513b6de9ed"
      },
      "execution_count": null,
      "outputs": [
        {
          "output_type": "stream",
          "name": "stdout",
          "text": [
            "vowel count: 1\n",
            "vowel count: 2\n",
            "vowel count: 3\n",
            "vowel count: 4\n",
            "vowel count: 5\n"
          ]
        }
      ]
    },
    {
      "cell_type": "markdown",
      "source": [
        "now iam using tuple in for loop to store the item"
      ],
      "metadata": {
        "id": "Nu55ZI4RnHH-"
      }
    },
    {
      "cell_type": "code",
      "source": [
        "t = (10, 20, 30, 40)\n",
        "for item in t:\n",
        "    print(item)\n"
      ],
      "metadata": {
        "colab": {
          "base_uri": "https://localhost:8080/"
        },
        "id": "I3kDrapqndPB",
        "outputId": "159f2ae4-ff0c-4149-e206-ea8061a88ef2"
      },
      "execution_count": null,
      "outputs": [
        {
          "output_type": "stream",
          "name": "stdout",
          "text": [
            "10\n",
            "20\n",
            "30\n",
            "40\n"
          ]
        }
      ]
    },
    {
      "cell_type": "markdown",
      "source": [
        "now iam using list in loop to store  the multiple item in one variable"
      ],
      "metadata": {
        "id": "04kmDYgnnynp"
      }
    },
    {
      "cell_type": "code",
      "source": [
        "numbers = [5, 11, 15]\n",
        "total = 0\n",
        "for num in numbers:\n",
        "    total += num\n",
        "print(\"Sum:\", total)\n"
      ],
      "metadata": {
        "colab": {
          "base_uri": "https://localhost:8080/"
        },
        "id": "PbMo39gDoQG3",
        "outputId": "34885a02-704c-4923-9607-239187a6c162"
      },
      "execution_count": null,
      "outputs": [
        {
          "output_type": "stream",
          "name": "stdout",
          "text": [
            "Sum: 31\n"
          ]
        }
      ]
    },
    {
      "cell_type": "markdown",
      "source": [
        "with the while loop we can execute set of statements in long conditions"
      ],
      "metadata": {
        "id": "OkOUcTWzq5PB"
      }
    },
    {
      "cell_type": "code",
      "source": [
        "i=2\n",
        "while i<6:\n",
        "  print (i)\n",
        "  i +=1"
      ],
      "metadata": {
        "colab": {
          "base_uri": "https://localhost:8080/"
        },
        "id": "RYcnebAkrHBy",
        "outputId": "3930c1a9-3dfd-4c4e-8e66-1dcca0b6906d"
      },
      "execution_count": null,
      "outputs": [
        {
          "output_type": "stream",
          "name": "stdout",
          "text": [
            "2\n",
            "3\n",
            "4\n",
            "5\n"
          ]
        }
      ]
    },
    {
      "cell_type": "markdown",
      "source": [
        "now iam printing the factorial in a while loop"
      ],
      "metadata": {
        "id": "nQl9SfCqsjP-"
      }
    },
    {
      "cell_type": "code",
      "source": [
        "num = 10\n",
        "result = 1\n",
        "while num > 0:\n",
        "    result *= num\n",
        "    num -= 1\n",
        "print(\"Factorial:\", result)\n"
      ],
      "metadata": {
        "colab": {
          "base_uri": "https://localhost:8080/"
        },
        "id": "t0Q9jL-_suRo",
        "outputId": "16c15b60-42f0-4213-fd46-8d645cea7702"
      },
      "execution_count": null,
      "outputs": [
        {
          "output_type": "stream",
          "name": "stdout",
          "text": [
            "Factorial: 3628800\n"
          ]
        }
      ]
    },
    {
      "cell_type": "markdown",
      "source": [
        "now iam printing the starcode by using the while loop"
      ],
      "metadata": {
        "id": "uyRy6Qdh1fsF"
      }
    },
    {
      "cell_type": "code",
      "source": [
        "i = 1\n",
        "while i <= 5:\n",
        "    print(\"*\" * i)\n",
        "    i += 1\n"
      ],
      "metadata": {
        "colab": {
          "base_uri": "https://localhost:8080/"
        },
        "id": "v895omZi1t-9",
        "outputId": "8bda2009-898f-498e-8d4d-7cc546702938"
      },
      "execution_count": null,
      "outputs": [
        {
          "output_type": "stream",
          "name": "stdout",
          "text": [
            "*\n",
            "**\n",
            "***\n",
            "****\n",
            "*****\n"
          ]
        }
      ]
    },
    {
      "cell_type": "markdown",
      "source": [
        "printing the digits of a number"
      ],
      "metadata": {
        "id": "ukB3wt_ytpdj"
      }
    },
    {
      "cell_type": "code",
      "source": [
        "num = 543\n",
        "while num > 0:\n",
        "    digit = num % 10\n",
        "    print(digit)\n",
        "    num //= 10\n"
      ],
      "metadata": {
        "colab": {
          "base_uri": "https://localhost:8080/"
        },
        "id": "yjBbB6eItxJk",
        "outputId": "8bab9ee2-b3e2-472c-99f7-909c4395af58"
      },
      "execution_count": null,
      "outputs": [
        {
          "output_type": "stream",
          "name": "stdout",
          "text": [
            "3\n",
            "4\n",
            "5\n"
          ]
        }
      ]
    },
    {
      "cell_type": "markdown",
      "source": [
        "so now iam using the else statement the condition will no longer true"
      ],
      "metadata": {
        "id": "fNygnzbluHqj"
      }
    },
    {
      "cell_type": "code",
      "source": [
        "i=1\n",
        "while i<6:\n",
        "  i =+1\n",
        "  print()"
      ],
      "metadata": {
        "id": "EeCdiBn2wYke"
      },
      "execution_count": null,
      "outputs": []
    },
    {
      "cell_type": "markdown",
      "source": [
        "loop control statements\n",
        "break statement it exists current loop even if condition is true"
      ],
      "metadata": {
        "id": "f-whBKDxx4ua"
      }
    },
    {
      "cell_type": "code",
      "source": [
        "i = 1\n",
        "while i <= 10:\n",
        "    if i == 5:\n",
        "        break\n",
        "    print(i)\n",
        "    i += 1\n"
      ],
      "metadata": {
        "colab": {
          "base_uri": "https://localhost:8080/"
        },
        "id": "_G6b_jwMyAP2",
        "outputId": "d5bfe72d-43d9-447c-8daf-d1abaf174869"
      },
      "execution_count": null,
      "outputs": [
        {
          "output_type": "stream",
          "name": "stdout",
          "text": [
            "1\n",
            "2\n",
            "3\n",
            "4\n"
          ]
        }
      ]
    },
    {
      "cell_type": "markdown",
      "source": [
        "continue statement stops current iteration and continues next statement"
      ],
      "metadata": {
        "id": "UqJnLONJzImY"
      }
    },
    {
      "cell_type": "code",
      "source": [
        "i = 0\n",
        "while i < 10:\n",
        "    i += 1\n",
        "    if i == 7:\n",
        "        continue\n",
        "    print(i)\n"
      ],
      "metadata": {
        "colab": {
          "base_uri": "https://localhost:8080/"
        },
        "id": "d4oDXBHLzqY9",
        "outputId": "4ce56dee-933a-43be-ea62-962bff22e6bf"
      },
      "execution_count": null,
      "outputs": [
        {
          "output_type": "stream",
          "name": "stdout",
          "text": [
            "1\n",
            "2\n",
            "3\n",
            "4\n",
            "5\n",
            "6\n",
            "8\n",
            "9\n",
            "10\n"
          ]
        }
      ]
    },
    {
      "cell_type": "markdown",
      "source": [
        "now iam skipping the vowls in a string by using the continue statement"
      ],
      "metadata": {
        "id": "WmOxXxuf14C2"
      }
    },
    {
      "cell_type": "code",
      "source": [
        "s = \"hello WORD\"\n",
        "for char in s:\n",
        "    if char in \"aeiouAEIOU\":\n",
        "        continue\n",
        "    print(char, end=\"\")\n"
      ],
      "metadata": {
        "colab": {
          "base_uri": "https://localhost:8080/"
        },
        "id": "Ll5yPXWD2DJ2",
        "outputId": "f2878a85-c0fe-4c19-98b8-bc2eae516250"
      },
      "execution_count": null,
      "outputs": [
        {
          "output_type": "stream",
          "name": "stdout",
          "text": [
            "hll WRD"
          ]
        }
      ]
    },
    {
      "cell_type": "markdown",
      "source": [
        "loop with else in python in this we can use for,while"
      ],
      "metadata": {
        "id": "LkvuvmgW3FIM"
      }
    },
    {
      "cell_type": "code",
      "source": [
        "for i in range(5):\n",
        "    print(i)\n",
        "else:\n",
        "    print(\"Loop finished successfully!\")\n"
      ],
      "metadata": {
        "colab": {
          "base_uri": "https://localhost:8080/"
        },
        "id": "0hcTSmt43Qyd",
        "outputId": "f41b3dc3-d9da-4b27-80b5-e0205c78c7c6"
      },
      "execution_count": null,
      "outputs": [
        {
          "output_type": "stream",
          "name": "stdout",
          "text": [
            "0\n",
            "1\n",
            "2\n",
            "3\n",
            "4\n",
            "Loop finished successfully!\n"
          ]
        }
      ]
    },
    {
      "cell_type": "markdown",
      "source": [
        "nested loops we are going to print the star code by using for"
      ],
      "metadata": {
        "id": "bV87Apbz461o"
      }
    },
    {
      "cell_type": "code",
      "source": [
        "for i in range(1, 6):\n",
        "    for j in range(i):\n",
        "        print(\"*\", end=\"\")\n",
        "    print()\n"
      ],
      "metadata": {
        "colab": {
          "base_uri": "https://localhost:8080/"
        },
        "id": "ZgsLY9NJ5FFQ",
        "outputId": "f7da0ed8-75b7-43bb-e224-00d22a1f6e3d"
      },
      "execution_count": null,
      "outputs": [
        {
          "output_type": "stream",
          "name": "stdout",
          "text": [
            "*\n",
            "**\n",
            "***\n",
            "****\n",
            "*****\n"
          ]
        }
      ]
    },
    {
      "cell_type": "markdown",
      "source": [
        "now iam printing the inverted triangle by using the negative value then only it gives the reverse order"
      ],
      "metadata": {
        "id": "z5tjFcMy5e4H"
      }
    },
    {
      "cell_type": "code",
      "source": [
        "for i in range(10, 0, -1):\n",
        "    for j in range(i):\n",
        "        print(\"*\", end=\"\")\n",
        "    print()\n"
      ],
      "metadata": {
        "colab": {
          "base_uri": "https://localhost:8080/"
        },
        "id": "Xs7WfYve5wbN",
        "outputId": "567892bd-5fd9-4700-807f-2aee997a4fee"
      },
      "execution_count": null,
      "outputs": [
        {
          "output_type": "stream",
          "name": "stdout",
          "text": [
            "**********\n",
            "*********\n",
            "********\n",
            "*******\n",
            "******\n",
            "*****\n",
            "****\n",
            "***\n",
            "**\n",
            "*\n"
          ]
        }
      ]
    },
    {
      "cell_type": "markdown",
      "source": [
        "now iam printing the multiplication table"
      ],
      "metadata": {
        "id": "K8Z4Ck756UuC"
      }
    },
    {
      "cell_type": "code",
      "source": [
        "for i in range(1, 3):\n",
        "    print(f\"{i}\")\n",
        "    for j in range(1, 11):\n",
        "        print(f\"{i} x {j} = {i * j}\")\n"
      ],
      "metadata": {
        "colab": {
          "base_uri": "https://localhost:8080/"
        },
        "id": "DPSB3s5Y6qNv",
        "outputId": "6fbd8153-f535-4d5e-884a-f4e591143299"
      },
      "execution_count": null,
      "outputs": [
        {
          "output_type": "stream",
          "name": "stdout",
          "text": [
            "1\n",
            "1 x 1 = 1\n",
            "1 x 2 = 2\n",
            "1 x 3 = 3\n",
            "1 x 4 = 4\n",
            "1 x 5 = 5\n",
            "1 x 6 = 6\n",
            "1 x 7 = 7\n",
            "1 x 8 = 8\n",
            "1 x 9 = 9\n",
            "1 x 10 = 10\n",
            "2\n",
            "2 x 1 = 2\n",
            "2 x 2 = 4\n",
            "2 x 3 = 6\n",
            "2 x 4 = 8\n",
            "2 x 5 = 10\n",
            "2 x 6 = 12\n",
            "2 x 7 = 14\n",
            "2 x 8 = 16\n",
            "2 x 9 = 18\n",
            "2 x 10 = 20\n"
          ]
        }
      ]
    },
    {
      "cell_type": "markdown",
      "source": [
        "FUNCTIONS"
      ],
      "metadata": {
        "id": "TCTPOMTn7dy_"
      }
    },
    {
      "cell_type": "markdown",
      "source": [
        "creating a function using def"
      ],
      "metadata": {
        "id": "gw4Y9uiSp-jr"
      }
    },
    {
      "cell_type": "code",
      "source": [
        "def my_function():\n",
        "  print(\"Hi how are you\")\n",
        "\n",
        "my_function()\n"
      ],
      "metadata": {
        "id": "nha4Esoq7iRy",
        "colab": {
          "base_uri": "https://localhost:8080/"
        },
        "outputId": "4deae57d-ed7b-4fe7-bc5e-081649ebd860"
      },
      "execution_count": null,
      "outputs": [
        {
          "output_type": "stream",
          "name": "stdout",
          "text": [
            "Hi how are you\n"
          ]
        }
      ]
    },
    {
      "cell_type": "markdown",
      "source": [
        "now iam writing retur value in function by using return"
      ],
      "metadata": {
        "id": "Op5Dre5sT60D"
      }
    },
    {
      "cell_type": "code",
      "source": [
        "def add(a, b):\n",
        "    return a + b\n",
        "result = add(\"bike\",\"car\")\n",
        "print(result)\n"
      ],
      "metadata": {
        "colab": {
          "base_uri": "https://localhost:8080/"
        },
        "id": "MelrDeppsNj-",
        "outputId": "3a155168-f25c-451b-c7f4-669a5fc4369a"
      },
      "execution_count": null,
      "outputs": [
        {
          "output_type": "stream",
          "name": "stdout",
          "text": [
            "bikecar\n"
          ]
        }
      ]
    },
    {
      "cell_type": "markdown",
      "source": [],
      "metadata": {
        "id": "RVM5JKYIr-rs"
      }
    },
    {
      "cell_type": "markdown",
      "source": [
        "positional arguments"
      ],
      "metadata": {
        "id": "q7fur4J4vOM1"
      }
    },
    {
      "cell_type": "code",
      "source": [
        "def greet(name, age):\n",
        "    print(f\"Hello {name}, you are {age} years old.\")\n",
        "\n",
        "greet(\"Akhil\", 20)\n"
      ],
      "metadata": {
        "colab": {
          "base_uri": "https://localhost:8080/"
        },
        "id": "qpPQ5KmBvRHO",
        "outputId": "8ac9432a-f75e-4dcc-ed27-08dbf4093373"
      },
      "execution_count": null,
      "outputs": [
        {
          "output_type": "stream",
          "name": "stdout",
          "text": [
            "Hello Akhil, you are 20 years old.\n"
          ]
        }
      ]
    },
    {
      "cell_type": "markdown",
      "source": [
        "if we  give default values that are used if no argument is passed"
      ],
      "metadata": {
        "id": "TbU3XKFIvx59"
      }
    },
    {
      "cell_type": "code",
      "source": [
        "def greet(name, age=18):\n",
        "    print(f\"helo {name}, you are {age} years old.\")\n",
        "\n",
        "greet(\"Akhil\")\n",
        "greet(\"akhil\",\"20\")"
      ],
      "metadata": {
        "colab": {
          "base_uri": "https://localhost:8080/"
        },
        "id": "XU3Lmpjnv3jQ",
        "outputId": "65e15545-9957-4689-ead3-e6eb60c4bc77"
      },
      "execution_count": null,
      "outputs": [
        {
          "output_type": "stream",
          "name": "stdout",
          "text": [
            "helo Akhil, you are 18 years old.\n",
            "helo akhil, you are 20 years old.\n"
          ]
        }
      ]
    },
    {
      "cell_type": "markdown",
      "source": [
        "you will the name of argument so order doesnt matter keyword"
      ],
      "metadata": {
        "id": "e2vLq_Eaxd5U"
      }
    },
    {
      "cell_type": "code",
      "source": [
        "def greet(name, age):\n",
        "    print(f\"Hello {name}, you are {age} years old.\")\n",
        "greet(age=20, name=\"Akhil\")\n"
      ],
      "metadata": {
        "colab": {
          "base_uri": "https://localhost:8080/"
        },
        "id": "gRToygzsx3Og",
        "outputId": "a08d77c6-43dc-49b8-b58b-4fd80204163c"
      },
      "execution_count": null,
      "outputs": [
        {
          "output_type": "stream",
          "name": "stdout",
          "text": [
            "Hello Akhil, you are 20 years old.\n"
          ]
        }
      ]
    },
    {
      "cell_type": "markdown",
      "source": [
        "args we use for multiple variable number of arguments"
      ],
      "metadata": {
        "id": "h8jEv1Glze0I"
      }
    },
    {
      "cell_type": "code",
      "source": [
        "def add(*numbers):\n",
        "    total = 0\n",
        "    for num in numbers:\n",
        "        total += num\n",
        "    print(\"Sum:\", total)\n",
        "add(1, 2, 3, 4)"
      ],
      "metadata": {
        "colab": {
          "base_uri": "https://localhost:8080/"
        },
        "id": "YVS-vBKV0Nyz",
        "outputId": "981c2159-bdbb-4e7f-ce77-0fb1232248e0"
      },
      "execution_count": null,
      "outputs": [
        {
          "output_type": "stream",
          "name": "stdout",
          "text": [
            "Sum: 10\n"
          ]
        }
      ]
    },
    {
      "cell_type": "code",
      "source": [
        "def show_kwargs(**kwargs):\n",
        "    print( kwargs)\n",
        "\n",
        "show_kwargs(name=\"Akhil\", age=20)"
      ],
      "metadata": {
        "colab": {
          "base_uri": "https://localhost:8080/"
        },
        "id": "9qSQ0GJK4iz1",
        "outputId": "9584fef2-7378-48dd-fbc5-fbb61e193f98"
      },
      "execution_count": null,
      "outputs": [
        {
          "output_type": "stream",
          "name": "stdout",
          "text": [
            "{'name': 'Akhil', 'age': 20}\n"
          ]
        }
      ]
    },
    {
      "cell_type": "markdown",
      "source": [
        "a variable declared all functions at outside and access all the functions"
      ],
      "metadata": {
        "id": "EVHzbONM9Z0G"
      }
    },
    {
      "cell_type": "code",
      "source": [
        "x = 10\n",
        "def show():\n",
        "    print(\"Inside function:\", x)\n",
        "show()\n",
        "print(\"Outside function:\", x)\n"
      ],
      "metadata": {
        "colab": {
          "base_uri": "https://localhost:8080/"
        },
        "id": "xq0pQ6-k9vgs",
        "outputId": "ff372384-ea77-4566-c414-47bde450d16b"
      },
      "execution_count": null,
      "outputs": [
        {
          "output_type": "stream",
          "name": "stdout",
          "text": [
            "Inside function: 10\n",
            "Outside function: 10\n"
          ]
        }
      ]
    },
    {
      "cell_type": "markdown",
      "source": [
        "a variable declares inside the function"
      ],
      "metadata": {
        "id": "pW6c54d6-Hfd"
      }
    },
    {
      "cell_type": "code",
      "source": [
        "def show():\n",
        "    y = 5\n",
        "    print(\"Inside function:\", y)\n",
        "show()"
      ],
      "metadata": {
        "colab": {
          "base_uri": "https://localhost:8080/"
        },
        "id": "S4FEfRPi-Uw2",
        "outputId": "c6a337a6-633c-4761-ecaf-50697de0b775"
      },
      "execution_count": null,
      "outputs": [
        {
          "output_type": "stream",
          "name": "stdout",
          "text": [
            "Inside function: 5\n"
          ]
        }
      ]
    },
    {
      "cell_type": "markdown",
      "source": [],
      "metadata": {
        "id": "AdR8SQ4H4iIp"
      }
    },
    {
      "cell_type": "markdown",
      "source": [
        "if you want to modify variable in global function you must use global"
      ],
      "metadata": {
        "id": "vYqHaNd6BGPW"
      }
    },
    {
      "cell_type": "code",
      "source": [
        "z = 100\n",
        "def change():\n",
        "    global z\n",
        "    z = z + 50\n",
        "    print(\"Inside function:\", z)\n",
        "change()\n",
        "print(\"Outside function:\", z)\n"
      ],
      "metadata": {
        "colab": {
          "base_uri": "https://localhost:8080/"
        },
        "id": "WMufhde_ERcD",
        "outputId": "21b2dc5f-effa-4e89-e390-b67c45a69e1f"
      },
      "execution_count": null,
      "outputs": [
        {
          "output_type": "stream",
          "name": "stdout",
          "text": [
            "Inside function: 150\n",
            "Outside function: 150\n"
          ]
        }
      ]
    },
    {
      "cell_type": "markdown",
      "source": [],
      "metadata": {
        "id": "PFqEJeGqEhwO"
      }
    },
    {
      "cell_type": "markdown",
      "source": [
        "a lamba function can take any number of arguments"
      ],
      "metadata": {
        "id": "2fKCHEO9hB7_"
      }
    },
    {
      "cell_type": "code",
      "source": [
        "add = lambda x, y: x + y\n",
        "print(add(5, 3))\n"
      ],
      "metadata": {
        "colab": {
          "base_uri": "https://localhost:8080/"
        },
        "id": "oqD3zhv9hQRX",
        "outputId": "f492579b-f72f-4256-9065-a518eae1c850"
      },
      "execution_count": null,
      "outputs": [
        {
          "output_type": "stream",
          "name": "stdout",
          "text": [
            "8\n"
          ]
        }
      ]
    },
    {
      "cell_type": "markdown",
      "source": [
        "applies a every function to the every item iterable"
      ],
      "metadata": {
        "id": "wUV3cPUXithK"
      }
    },
    {
      "cell_type": "code",
      "source": [
        "numbers = [1, 2, 3, 4]\n",
        "squared = list(map(lambda x: x**2, numbers))\n",
        "print(squared)\n"
      ],
      "metadata": {
        "colab": {
          "base_uri": "https://localhost:8080/"
        },
        "id": "Q1x3AMiJiHFd",
        "outputId": "424c6bbc-229b-487e-f109-b92e1475ae0a"
      },
      "execution_count": null,
      "outputs": [
        {
          "output_type": "stream",
          "name": "stdout",
          "text": [
            "[1, 4, 9, 16]\n"
          ]
        }
      ]
    },
    {
      "cell_type": "markdown",
      "source": [
        "filter elements based on the function"
      ],
      "metadata": {
        "id": "_4AkDGE-juwL"
      }
    },
    {
      "cell_type": "code",
      "source": [
        "numbers = [1, 2, 3, 4, 5, 6]\n",
        "evens = list(filter(lambda x: x % 2 == 0, numbers))\n",
        "print(evens)\n"
      ],
      "metadata": {
        "colab": {
          "base_uri": "https://localhost:8080/"
        },
        "id": "BQbZwwVGja0p",
        "outputId": "ec56fc25-b032-463e-f7e6-d59294f98df1"
      },
      "execution_count": null,
      "outputs": [
        {
          "output_type": "stream",
          "name": "stdout",
          "text": [
            "[2, 4, 6]\n"
          ]
        }
      ]
    }
  ]
}
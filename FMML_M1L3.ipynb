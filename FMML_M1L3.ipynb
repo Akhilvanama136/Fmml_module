{
  "cells": [
    {
      "cell_type": "markdown",
      "metadata": {
        "id": "view-in-github",
        "colab_type": "text"
      },
      "source": [
        "<a href=\"https://colab.research.google.com/github/Akhilvanama136/Fmml_module/blob/main/FMML_M1L3.ipynb\" target=\"_parent\"><img src=\"https://colab.research.google.com/assets/colab-badge.svg\" alt=\"Open In Colab\"/></a>"
      ]
    },
    {
      "cell_type": "markdown",
      "metadata": {
        "id": "w3yfry25JgZK"
      },
      "source": [
        "# Data Augmentation\n",
        "\n",
        "FMML Module 1, Lab 3\n",
        "\n",
        "In this lab, we will see how augmentation of data samples help in improving the machine learning performance. Augmentation is the process of creating new data samples by making reasonable modifications to the original data samples. This is particularly useful when the size of the training data is small. We will use the MNISt dataset for this lab. We will also reuse functions from the previous labs."
      ]
    },
    {
      "cell_type": "code",
      "execution_count": 11,
      "metadata": {
        "id": "xZU8_elooqP0"
      },
      "outputs": [],
      "source": [
        "import numpy as np\n",
        "import matplotlib.pyplot as plt\n",
        "from keras.datasets import mnist\n",
        "from sklearn.utils.extmath import cartesian\n",
        "from skimage.transform import rotate, AffineTransform, warp\n",
        "\n",
        "rng = np.random.default_rng(seed=42)"
      ]
    },
    {
      "cell_type": "code",
      "execution_count": 12,
      "metadata": {
        "id": "gJvmWJ58ovx5"
      },
      "outputs": [],
      "source": [
        "# loading the dataset\n",
        "(train_X, train_y), (test_X, test_y) = mnist.load_data()\n",
        "\n",
        "# normalizing the data\n",
        "train_X = train_X / 255\n",
        "test_X = test_X / 255\n",
        "\n",
        "# subsample from images and labels. Otherwise it will take too long!\n",
        "train_X = train_X[::1200, :, :].copy()\n",
        "train_y = train_y[::1200].copy()"
      ]
    },
    {
      "cell_type": "markdown",
      "metadata": {
        "id": "8XamH6z1Rt7S"
      },
      "source": [
        "Let us borrow a few functions from the previous labs:"
      ]
    },
    {
      "cell_type": "code",
      "execution_count": 13,
      "metadata": {
        "id": "Zk2W5_3BRLMS"
      },
      "outputs": [],
      "source": [
        "def NN1(traindata, trainlabel, query):\n",
        "    \"\"\"\n",
        "    This function takes in the training data, training labels and a query point\n",
        "    and returns the predicted label for the query point using the nearest neighbour algorithm\n",
        "\n",
        "    traindata: numpy array of shape (n,d) where n is the number of samples and d is the number of features\n",
        "    trainlabel: numpy array of shape (n,) where n is the number of samples\n",
        "    query: numpy array of shape (d,) where d is the number of features\n",
        "\n",
        "    returns: the predicted label for the query point which is the label of the training data which is closest to the query point\n",
        "    \"\"\"\n",
        "    diff = (\n",
        "        traindata - query\n",
        "    )  # find the difference between features. Numpy automatically takes care of the size here\n",
        "    sq = diff * diff  # square the differences\n",
        "    dist = sq.sum(1)  # add up the squares\n",
        "    label = trainlabel[np.argmin(dist)]\n",
        "    return label\n",
        "\n",
        "\n",
        "def NN(traindata, trainlabel, testdata):\n",
        "    \"\"\"\n",
        "    This function takes in the training data, training labels and test data\n",
        "    and returns the predicted labels for the test data using the nearest neighbour algorithm\n",
        "\n",
        "    traindata: numpy array of shape (n,d) where n is the number of samples and d is the number of features\n",
        "    trainlabel: numpy array of shape (n,) where n is the number of samples\n",
        "    testdata: numpy array of shape (m,d) where m is the number of test samples and d is the number of features\n",
        "\n",
        "    returns: the predicted labels for the test data which is the label of the training data which is closest to each test point\n",
        "    \"\"\"\n",
        "    traindata = traindata.reshape(-1, 28*28)\n",
        "    testdata = testdata.reshape(-1, 28*28)\n",
        "    predlabel = np.array([NN1(traindata, trainlabel, i) for i in testdata])\n",
        "    return predlabel\n",
        "\n",
        "\n",
        "def Accuracy(gtlabel, predlabel):\n",
        "    \"\"\"\n",
        "    This function takes in the ground-truth labels and predicted labels\n",
        "    and returns the accuracy of the classifier\n",
        "\n",
        "    gtlabel: numpy array of shape (n,) where n is the number of samples\n",
        "    predlabel: numpy array of shape (n,) where n is the number of samples\n",
        "\n",
        "    returns: the accuracy of the classifier which is the number of correct predictions divided by the total number of predictions\n",
        "    \"\"\"\n",
        "    assert len(gtlabel) == len(\n",
        "        predlabel\n",
        "    ), \"Length of the ground-truth labels and predicted labels should be the same\"\n",
        "    correct = (\n",
        "        gtlabel == predlabel\n",
        "    ).sum()  # count the number of times the groundtruth label is equal to the predicted label.\n",
        "    return correct / len(gtlabel)"
      ]
    },
    {
      "cell_type": "markdown",
      "metadata": {
        "id": "eGiA3LmDSJZo"
      },
      "source": [
        "In this lab, we will use the image pixels themselves as features, instead of extracting features. Each image has 28*28 pixels, so we will flatten them to 784 pixels to use as features. Note that this is very compute intensive and will take a long time. Let us first check the baseline accuracy on the test set without any augmentations. We hope that adding augmentations will help us to get better results."
      ]
    },
    {
      "cell_type": "code",
      "execution_count": 14,
      "metadata": {
        "colab": {
          "base_uri": "https://localhost:8080/"
        },
        "id": "4tQvnoasRNEV",
        "outputId": "29d24984-55e1-4f9f-c656-38bb6be40ce1"
      },
      "outputs": [
        {
          "output_type": "stream",
          "name": "stdout",
          "text": [
            "Baseline accuracy without augmentation: 64.72 %\n"
          ]
        }
      ],
      "source": [
        "testpred = NN(train_X, train_y, test_X)\n",
        "print(\"Baseline accuracy without augmentation:\",\n",
        "      Accuracy(test_y, testpred)*100, \"%\")"
      ]
    },
    {
      "cell_type": "markdown",
      "metadata": {
        "id": "ZfkcMfhIZQ7U"
      },
      "source": [
        "Let us try to improve this accuracy using augmentations. When we create augmentations, we have to make sure that the changes reflect what will naturally occur in the dataset. For example, we should not add colour to our samples as an augmentation because they do not naturally occur. We should not also flip the images in MNIST, because flipped images have different meanings for digits. So, we will use the following augmentations:\n",
        "\n",
        "### Augmentation 1: Rotation\n",
        "\n",
        "Let us try rotating the image a little. We will use the `rotate` function from the `skimage` module. We will rotate the image by 10 degrees and -10 degrees. Rotation is a reasonable augmentation because the digit will still be recognizable even after rotation and is representative of the dataset."
      ]
    },
    {
      "cell_type": "code",
      "execution_count": 15,
      "metadata": {
        "colab": {
          "base_uri": "https://localhost:8080/",
          "height": 108
        },
        "id": "z5WolJ9fZE7L",
        "outputId": "00513626-8952-454c-d768-86292fb18dda"
      },
      "outputs": [
        {
          "output_type": "display_data",
          "data": {
            "text/plain": [
              "<Figure size 1500x500 with 3 Axes>"
            ],
            "image/png": "[encoded data removed]"
          },
          "metadata": {}
        }
      ],
      "source": [
        "fig, axs = plt.subplots(1, 3, figsize=(15, 5))\n",
        "\n",
        "axs[0].imshow(train_X[2], cmap=\"gray\")\n",
        "axs[0].set_title(\"Original Image\")\n",
        "\n",
        "axs[1].imshow(rotate(train_X[2], 10), cmap=\"gray\")\n",
        "axs[1].set_title(\"Rotate +10 degrees\")\n",
        "\n",
        "axs[2].imshow(rotate(train_X[2], -10), cmap=\"gray\")\n",
        "axs[2].set_title(\"Rotate -10 degrees\")\n",
        "\n",
        "plt.show()"
      ]
    },
    {
      "cell_type": "markdown",
      "metadata": {
        "id": "KE33Yxgggu0c"
      },
      "source": [
        "After rotating, the the class of the image is still the same. Let us make a function to rotate multiple images by random angles. We want a slightly different image every time we run this function. So, we generate a random number between 0 and 1 and change it so that it lies between -constraint/2 and +constraint/2"
      ]
    },
    {
      "cell_type": "code",
      "execution_count": 16,
      "metadata": {
        "id": "vyM7pUV7Reze"
      },
      "outputs": [],
      "source": [
        "def augRotate(sample, angleconstraint):\n",
        "    \"\"\"\n",
        "    This function takes in a sample and an angle constraint and returns the augmented sample\n",
        "    by rotating the sample by a random angle within the angle constraint\n",
        "\n",
        "    sample: numpy array of shape (n,d) where n is the number of samples and d is the number of features\n",
        "    angleconstraint: the maximum angle by which the sample can be rotated\n",
        "\n",
        "    returns: the augmented sample which is the input sample rotated by a random angle within the angle constraint\n",
        "    \"\"\"\n",
        "    if angleconstraint == 0:\n",
        "        return sample\n",
        "    if len(sample.shape) == 2:\n",
        "        # make sure the sample is 3 dimensional\n",
        "        sample = np.expand_dims(sample, 0)\n",
        "    angle = rng.random(len(sample))  # generate random numbers for angles\n",
        "    # make the random angle constrained\n",
        "    angle = (angle - 0.5) * angleconstraint\n",
        "    nsample = sample.copy()  # preallocate the augmented array to make it faster\n",
        "    for ii in range(len(sample)):\n",
        "        nsample[ii] = rotate(sample[ii], angle[ii])\n",
        "    return np.squeeze(nsample)  # take care if the input had only one sample."
      ]
    },
    {
      "cell_type": "markdown",
      "metadata": {
        "id": "kDk-N5VNjar9"
      },
      "source": [
        "This function returns a slightly different image each time we call it. So we can increase the number of images in the sample by any multiple."
      ]
    },
    {
      "cell_type": "code",
      "execution_count": 17,
      "metadata": {
        "colab": {
          "base_uri": "https://localhost:8080/",
          "height": 77
        },
        "id": "Vw3O9zGFgI8K",
        "outputId": "edbfa754-ead1-45e0-a79f-d815dbeef26b"
      },
      "outputs": [
        {
          "output_type": "display_data",
          "data": {
            "text/plain": [
              "<Figure size 1500x500 with 5 Axes>"
            ],
            "image/png": "[encoded data removed]"
          },
          "metadata": {}
        }
      ],
      "source": [
        "sample = train_X[20]\n",
        "angleconstraint = 70\n",
        "\n",
        "fig, axs = plt.subplots(1, 5, figsize=(15, 5))\n",
        "\n",
        "axs[0].imshow(sample, cmap=\"gray\")\n",
        "axs[0].set_title(\"Original Image\")\n",
        "\n",
        "axs[1].imshow(augRotate(sample, angleconstraint), cmap=\"gray\")\n",
        "axs[1].set_title(\"Aug. Sample 1\")\n",
        "\n",
        "axs[2].imshow(augRotate(sample, angleconstraint), cmap=\"gray\")\n",
        "axs[2].set_title(\"Aug. Sample 2\")\n",
        "\n",
        "axs[3].imshow(augRotate(sample, angleconstraint), cmap=\"gray\")\n",
        "axs[3].set_title(\"Aug. Sample 3\")\n",
        "\n",
        "axs[4].imshow(augRotate(sample, angleconstraint), cmap=\"gray\")\n",
        "axs[4].set_title(\"Aug. Sample 4\")\n",
        "\n",
        "plt.show()"
      ]
    },
    {
      "cell_type": "markdown",
      "metadata": {
        "id": "ytv3NxF-kgxN"
      },
      "source": [
        "Let us augment the whole dataset and see if this improves the test accuracy"
      ]
    },
    {
      "cell_type": "code",
      "execution_count": 18,
      "metadata": {
        "colab": {
          "base_uri": "https://localhost:8080/"
        },
        "id": "iNzNAoDBkRzj",
        "outputId": "615b84bf-ebbb-4a21-b46c-ea778e99a92f"
      },
      "outputs": [
        {
          "output_type": "stream",
          "name": "stdout",
          "text": [
            "Accuracy after rotation augmentation: 67.66 %\n"
          ]
        }
      ],
      "source": [
        "# hyperparameters\n",
        "angleconstraint = 60\n",
        "naugmentations = 5\n",
        "\n",
        "# augment\n",
        "augdata = train_X  # we include the original images also in the augmented dataset\n",
        "auglabel = train_y\n",
        "for ii in range(naugmentations):\n",
        "    augdata = np.concatenate(\n",
        "        (augdata, augRotate(train_X, angleconstraint))\n",
        "    )  # concatenate the augmented data to the set\n",
        "    auglabel = np.concatenate(\n",
        "        (auglabel, train_y)\n",
        "    )  # the labels don't change when we augment\n",
        "\n",
        "# check the test accuracy\n",
        "testpred = NN(augdata, auglabel, test_X)\n",
        "print(\"Accuracy after rotation augmentation:\", Accuracy(test_y, testpred)*100, \"%\")"
      ]
    },
    {
      "cell_type": "markdown",
      "metadata": {
        "id": "E88Nt9s1p5R6"
      },
      "source": [
        "We can notice a 3-4% improvement compared to non-augmented version of the dataset!\n",
        "\n",
        "The angle constraint is a hyperparameter which we have to tune using a validation set. (Here we are not doing that for time constraints). Let us try a grid search to find the best angle constraint. We will try angles between 0 and 90 degrees. We can also try different multiples of the original dataset. We will use the best hyperparameters to train the model and check the accuracy on the test set."
      ]
    },
    {
      "cell_type": "code",
      "execution_count": 9,
      "metadata": {
        "colab": {
          "base_uri": "https://localhost:8080/"
        },
        "id": "aiaFRLREmGp6",
        "outputId": "084a1dc6-ae0e-4911-9b82-f3e6e0d619cb"
      },
      "outputs": [
        {
          "output_type": "stream",
          "name": "stdout",
          "text": [
            "Accuracy after rotation augmentation constrained by 0 degrees is 64.72 %\n",
            "Accuracy after rotation augmentation constrained by 10 degrees is 66.79 %\n",
            "Accuracy after rotation augmentation constrained by 20 degrees is 67.84 %\n",
            "Accuracy after rotation augmentation constrained by 30 degrees is 68.47 %\n",
            "Accuracy after rotation augmentation constrained by 40 degrees is 67.63 %\n",
            "Accuracy after rotation augmentation constrained by 50 degrees is 67.65 %\n",
            "Accuracy after rotation augmentation constrained by 60 degrees is 65.3 %\n",
            "Accuracy after rotation augmentation constrained by 70 degrees is 66.06 %\n",
            "Accuracy after rotation augmentation constrained by 80 degrees is 64.61 %\n",
            "Accuracy after rotation augmentation constrained by 90 degrees is 64.31 %\n"
          ]
        }
      ],
      "source": [
        "angleconstraints = [0, 10, 20, 30, 40, 50, 60, 70, 80, 90]  # the values we want to test\n",
        "accuracies = np.zeros(\n",
        "    len(angleconstraints), dtype=float\n",
        ")  # we will save the values here\n",
        "\n",
        "for ii in range(len(angleconstraints)):\n",
        "    # create the augmented dataset\n",
        "    augdata = train_X  # we include the original images also in the augmented dataset\n",
        "    auglabel = train_y\n",
        "    for jj in range(naugmentations):\n",
        "        augdata = np.concatenate(\n",
        "            (augdata, augRotate(train_X, angleconstraints[ii]))\n",
        "        )  # concatenate the augmented data to the set\n",
        "        auglabel = np.concatenate(\n",
        "            (auglabel, train_y)\n",
        "        )  # the labels don't change when we augment\n",
        "\n",
        "    # check the test accuracy\n",
        "    testpred = NN(augdata, auglabel, test_X)\n",
        "    accuracies[ii] = Accuracy(test_y, testpred)\n",
        "    print(\n",
        "        \"Accuracy after rotation augmentation constrained by\",\n",
        "        angleconstraints[ii],\n",
        "        \"degrees is\",\n",
        "        accuracies[ii]*100,\n",
        "        \"%\",\n",
        "        flush=True,\n",
        "    )"
      ]
    },
    {
      "cell_type": "markdown",
      "metadata": {
        "id": "2oVDRYP2rxob"
      },
      "source": [
        "Let us see the best value for angle constraint: (Ideally this should be done on validation set, not test set)"
      ]
    },
    {
      "cell_type": "code",
      "execution_count": 10,
      "metadata": {
        "colab": {
          "base_uri": "https://localhost:8080/",
          "height": 278
        },
        "id": "LqthJa_pmMHz",
        "outputId": "c08a984c-5d17-4b3e-f456-d5734862a0d1"
      },
      "outputs": [
        {
          "output_type": "execute_result",
          "data": {
            "text/plain": [
              "<matplotlib.collections.PathCollection at 0x79e7ae24e980>"
            ]
          },
          "metadata": {},
          "execution_count": 10
        },
        {
          "output_type": "display_data",
          "data": {
            "text/plain": [
              "<Figure size 640x480 with 1 Axes>"
            ],
            "image/png": "[encoded data removed]"
          },
          "metadata": {}
        }
      ],
      "source": [
        "fig = plt.figure()\n",
        "ax = fig.add_axes([0.1, 0.1, 0.8, 0.8])\n",
        "# plot the variation of accuracy\n",
        "ax.plot(angleconstraints, accuracies)\n",
        "ax.set_xlabel(\"angle\")\n",
        "ax.set_ylabel(\"accuracy\")\n",
        "\n",
        "# plot the maximum accuracy\n",
        "maxind = np.argmax(accuracies)\n",
        "plt.scatter(angleconstraints[maxind], accuracies[maxind], c=\"red\")"
      ]
    },
    {
      "cell_type": "markdown",
      "metadata": {
        "id": "eJ8YuVfCuGTj"
      },
      "source": [
        "### Augmentation 2: Shear\n",
        "\n",
        "\n",
        "Let us try one more augmentation: shear. Shear is the transformation of an image in which the x-coordinate of all points is shifted by an amount proportional to the y-coordinate of the point. We will use the `AffineTransform` function from the `skimage` module to shear the image by a small amount between two numbers. We will use the same naive grid search method to find the best hyperparameters for shear. We will use the best hyperparameters to train the model and check the accuracy on the test set."
      ]
    },
    {
      "cell_type": "code",
      "execution_count": 19,
      "metadata": {
        "id": "pMiw46NLwssK"
      },
      "outputs": [],
      "source": [
        "def shear(sample, amount):\n",
        "    \"\"\"\n",
        "    This function takes in a sample and an amount and returns the augmented sample\n",
        "    by shearing the sample by the given amount\n",
        "\n",
        "    sample: numpy array of shape (n,d) where n is the number of samples and d is the number of features\n",
        "    amount: the amount by which the sample should be sheared\n",
        "\n",
        "    returns: the augmented sample which is the input sample sheared by the given amount\n",
        "    \"\"\"\n",
        "    tform = AffineTransform(shear=amount)\n",
        "    img = warp(sample, tform)\n",
        "\n",
        "    # Applying shear makes the digit off-center\n",
        "    # Since all images are centralized, we will do the same here\n",
        "    col = img.sum(0).nonzero()[0]\n",
        "    row = img.sum(1).nonzero()[0]\n",
        "    if len(col) > 0 and len(row) > 0:\n",
        "        xshift = int(sample.shape[0] / 2 - (row[0] + row[-1]) / 2)\n",
        "        yshift = int(sample.shape[1] / 2 - (col[0] + col[-1]) / 2)\n",
        "        img = np.roll(img, (xshift, yshift), (0, 1))\n",
        "    return img"
      ]
    },
    {
      "cell_type": "code",
      "execution_count": 20,
      "metadata": {
        "colab": {
          "base_uri": "https://localhost:8080/",
          "height": 88
        },
        "id": "4_u_EYpmnABK",
        "outputId": "45f16244-6686-4d66-c7a2-8d2ed9f27d0f"
      },
      "outputs": [
        {
          "output_type": "display_data",
          "data": {
            "text/plain": [
              "<Figure size 1500x500 with 4 Axes>"
            ],
            "image/png": "[encoded data removed]"
          },
          "metadata": {}
        }
      ],
      "source": [
        "sample = train_X[2]\n",
        "fig, axs = plt.subplots(1, 4, figsize=(15, 5))\n",
        "\n",
        "axs[0].imshow(sample, cmap=\"gray\")\n",
        "axs[0].set_title(\"Original Image\")\n",
        "\n",
        "axs[1].imshow(shear(sample, 0.2), cmap=\"gray\")\n",
        "axs[1].set_title(\"Amount = 0.2\")\n",
        "\n",
        "axs[2].imshow(shear(sample, 0.4), cmap=\"gray\")\n",
        "axs[2].set_title(\"Amount = 0.4\")\n",
        "\n",
        "axs[3].imshow(shear(sample, 0.6), cmap=\"gray\")\n",
        "axs[3].set_title(\"Amount = 0.6\")\n",
        "\n",
        "plt.show()"
      ]
    },
    {
      "cell_type": "markdown",
      "metadata": {
        "id": "lGnWMoyM2pK4"
      },
      "source": [
        "Create an augmentation function which applies a random shear according to the constraint we provide:"
      ]
    },
    {
      "cell_type": "code",
      "execution_count": 21,
      "metadata": {
        "id": "-qLDJyGytwP5"
      },
      "outputs": [],
      "source": [
        "def augShear(sample, shearconstraint):\n",
        "    \"\"\"\n",
        "    This function takes in a sample and a shear constraint and returns the augmented sample\n",
        "    by shearing the sample by a random amount within the shear constraint\n",
        "\n",
        "    sample: numpy array of shape (n,d) where n is the number of samples and d is the number of features\n",
        "    shearconstraint: the maximum shear by which the sample can be sheared\n",
        "\n",
        "    returns: the augmented sample which is the input sample sheared by a random amount within the shear constraint\n",
        "    \"\"\"\n",
        "    if shearconstraint == 0:\n",
        "        return sample\n",
        "    if len(sample.shape) == 2:\n",
        "        # make sure the sample is 3 dimensional\n",
        "        sample = np.expand_dims(sample, 0)\n",
        "    amt = rng.random(len(sample))  # generate random numbers for shear\n",
        "    amt = (amt - 0.5) * shearconstraint  # make the random shear constrained\n",
        "    nsample = sample.copy()  # preallocate the augmented array to make it faster\n",
        "    for ii in range(len(sample)):\n",
        "        nsample[ii] = shear(sample[ii], amt[ii])\n",
        "    return np.squeeze(nsample)  # take care if the input had only one sample."
      ]
    },
    {
      "cell_type": "markdown",
      "metadata": {
        "id": "s6lQcWW93suJ"
      },
      "source": [
        "Let us do a grid search to find the best shear constraint."
      ]
    },
    {
      "cell_type": "code",
      "execution_count": 22,
      "metadata": {
        "colab": {
          "base_uri": "https://localhost:8080/"
        },
        "id": "l_wrqPkrzBb_",
        "outputId": "7218aac7-0c03-4029-8cdc-c8c3fe4d7ca5"
      },
      "outputs": [
        {
          "output_type": "stream",
          "name": "stdout",
          "text": [
            "Accuracy after shear augmentation constrained by 0 is 64.72 %\n",
            "Accuracy after shear augmentation constrained by 0.2 is 62.83 %\n",
            "Accuracy after shear augmentation constrained by 0.4 is 64.27000000000001 %\n",
            "Accuracy after shear augmentation constrained by 0.6 is 65.86 %\n",
            "Accuracy after shear augmentation constrained by 0.8 is 64.69 %\n",
            "Accuracy after shear augmentation constrained by 1.0 is 65.55 %\n",
            "Accuracy after shear augmentation constrained by 1.2 is 64.02 %\n",
            "Accuracy after shear augmentation constrained by 1.4 is 65.10000000000001 %\n",
            "Accuracy after shear augmentation constrained by 1.6 is 63.9 %\n",
            "Accuracy after shear augmentation constrained by 1.8 is 64.03999999999999 %\n",
            "Accuracy after shear augmentation constrained by 2.0 is 63.28 %\n"
          ]
        }
      ],
      "source": [
        "shearconstraints = [\n",
        "    0,\n",
        "    0.2,\n",
        "    0.4,\n",
        "    0.6,\n",
        "    0.8,\n",
        "    1.0,\n",
        "    1.2,\n",
        "    1.4,\n",
        "    1.6,\n",
        "    1.8,\n",
        "    2.0,\n",
        "]  # the values we want to test\n",
        "accuracies = np.zeros(\n",
        "    len(shearconstraints), dtype=float\n",
        ")  # we will save the values here\n",
        "\n",
        "for ii in range(len(shearconstraints)):\n",
        "    # create the augmented dataset\n",
        "    augdata = train_X  # we include the original images also in the augmented dataset\n",
        "    auglabel = train_y\n",
        "    for jj in range(naugmentations):\n",
        "        augdata = np.concatenate(\n",
        "            (augdata, augShear(train_X, shearconstraints[ii]))\n",
        "        )  # concatenate the augmented data to the set\n",
        "        auglabel = np.concatenate(\n",
        "            (auglabel, train_y)\n",
        "        )  # the labels don't change when we augment\n",
        "\n",
        "    # check the test accuracy\n",
        "    testpred = NN(augdata, auglabel, test_X)\n",
        "    accuracies[ii] = Accuracy(test_y, testpred)\n",
        "    print(\n",
        "        \"Accuracy after shear augmentation constrained by\",\n",
        "        shearconstraints[ii],\n",
        "        \"is\",\n",
        "        accuracies[ii]*100,\n",
        "        \"%\",\n",
        "        flush=True,\n",
        "    )"
      ]
    },
    {
      "cell_type": "code",
      "execution_count": 23,
      "metadata": {
        "colab": {
          "base_uri": "https://localhost:8080/",
          "height": 277
        },
        "id": "EKaH-YR-zVnA",
        "outputId": "36ddae72-a70d-49fb-c41b-e1fe2ad3a2bd"
      },
      "outputs": [
        {
          "output_type": "execute_result",
          "data": {
            "text/plain": [
              "<matplotlib.collections.PathCollection at 0x79e7aa60d450>"
            ]
          },
          "metadata": {},
          "execution_count": 23
        },
        {
          "output_type": "display_data",
          "data": {
            "text/plain": [
              "<Figure size 640x480 with 1 Axes>"
            ],
            "image/png": "[encoded data removed]"
          },
          "metadata": {}
        }
      ],
      "source": [
        "fig = plt.figure()\n",
        "ax = fig.add_axes([0.1, 0.1, 0.8, 0.8])\n",
        "# plot the variation of accuracy\n",
        "ax.plot(shearconstraints, accuracies)\n",
        "ax.set_xlabel(\"angle\")\n",
        "ax.set_ylabel(\"accuracy\")\n",
        "\n",
        "# plot the maximum accuracy\n",
        "maxind = np.argmax(accuracies)\n",
        "plt.scatter(shearconstraints[maxind], accuracies[maxind], c=\"red\")"
      ]
    },
    {
      "cell_type": "markdown",
      "metadata": {
        "id": "ccfdbRcQ7Zgg"
      },
      "source": [
        "### Augmentation 3: Rotation + Shear\n",
        "\n",
        "\n",
        "\n",
        "We can do multiple augmentations at the same time. Here is a function to do both shear and rotation to the sample. In this case, we will have two hyperparameters."
      ]
    },
    {
      "cell_type": "code",
      "execution_count": 24,
      "metadata": {
        "id": "sh8S_Pxa0XCv"
      },
      "outputs": [],
      "source": [
        "def augRotateShear(sample, angleconstraint, shearconstraint):\n",
        "    \"\"\"\n",
        "    This function takes in a sample, an angle constraint and a shear constraint and returns the augmented sample\n",
        "    by rotating the sample by a random angle within the angle constraint and shearing the sample by a random amount within the shear constraint\n",
        "\n",
        "    sample: numpy array of shape (n,d) where n is the number of samples and d is the number of features\n",
        "    angleconstraint: the maximum angle by which the sample can be rotated\n",
        "    shearconstraint: the maximum shear by which the sample can be sheared\n",
        "\n",
        "    returns: the augmented sample which is the input sample rotated by a random angle within the angle constraint and sheared by a random amount within the shear constraint\n",
        "    \"\"\"\n",
        "    if len(sample.shape) == 2:\n",
        "        # make sure the sample is 3 dimensional\n",
        "        sample = np.expand_dims(sample, 0)\n",
        "    amt = rng.random(len(sample))  # generate random numbers for shear\n",
        "    amt = (amt - 0.5) * shearconstraint  # make the random shear constrained\n",
        "    angle = rng.random(len(sample))  # generate random numbers for angles\n",
        "    # make the random angle constrained\n",
        "    angle = (angle - 0.5) * angleconstraint\n",
        "    nsample = sample.copy()  # preallocate the augmented array to make it faster\n",
        "    for ii in range(len(sample)):\n",
        "        nsample[ii] = rotate(\n",
        "            shear(sample[ii], amt[ii]), angle[ii]\n",
        "        )  # first apply shear, then rotate\n",
        "    return np.squeeze(nsample)  # take care if the input had only one sample."
      ]
    },
    {
      "cell_type": "markdown",
      "metadata": {
        "id": "OGKyjjNx-NQ4"
      },
      "source": [
        "Since we have two hyperparameters, we have to do the grid search on a 2 dimensional matrix. We can use our previous experience to inform where to search for the best hyperparameters."
      ]
    },
    {
      "cell_type": "code",
      "execution_count": 25,
      "metadata": {
        "colab": {
          "base_uri": "https://localhost:8080/"
        },
        "id": "TJC45WRg0pOP",
        "outputId": "9439c4a7-f8da-4b58-81e6-525b216649ec"
      },
      "outputs": [
        {
          "output_type": "stream",
          "name": "stdout",
          "text": [
            "Accuracy after augmentation shear: 0.0 angle: 0.0 is 63.32 %\n",
            "Accuracy after augmentation shear: 0.0 angle: 10.0 is 61.24000000000001 %\n",
            "Accuracy after augmentation shear: 0.0 angle: 20.0 is 63.07000000000001 %\n",
            "Accuracy after augmentation shear: 0.0 angle: 30.0 is 63.14999999999999 %\n",
            "Accuracy after augmentation shear: 0.0 angle: 40.0 is 60.56 %\n",
            "Accuracy after augmentation shear: 0.0 angle: 50.0 is 61.99 %\n",
            "Accuracy after augmentation shear: 0.0 angle: 60.0 is 63.7 %\n",
            "Accuracy after augmentation shear: 0.2 angle: 0.0 is 63.370000000000005 %\n",
            "Accuracy after augmentation shear: 0.2 angle: 10.0 is 61.77 %\n",
            "Accuracy after augmentation shear: 0.2 angle: 20.0 is 63.01 %\n",
            "Accuracy after augmentation shear: 0.2 angle: 30.0 is 62.08 %\n",
            "Accuracy after augmentation shear: 0.2 angle: 40.0 is 62.480000000000004 %\n",
            "Accuracy after augmentation shear: 0.2 angle: 50.0 is 61.309999999999995 %\n",
            "Accuracy after augmentation shear: 0.2 angle: 60.0 is 63.239999999999995 %\n",
            "Accuracy after augmentation shear: 0.4 angle: 0.0 is 63.39 %\n",
            "Accuracy after augmentation shear: 0.4 angle: 10.0 is 60.84 %\n",
            "Accuracy after augmentation shear: 0.4 angle: 20.0 is 61.47 %\n",
            "Accuracy after augmentation shear: 0.4 angle: 30.0 is 59.35 %\n",
            "Accuracy after augmentation shear: 0.4 angle: 40.0 is 61.980000000000004 %\n",
            "Accuracy after augmentation shear: 0.4 angle: 50.0 is 62.53999999999999 %\n",
            "Accuracy after augmentation shear: 0.4 angle: 60.0 is 63.21 %\n",
            "Accuracy after augmentation shear: 0.6 angle: 0.0 is 63.42 %\n",
            "Accuracy after augmentation shear: 0.6 angle: 10.0 is 60.27 %\n",
            "Accuracy after augmentation shear: 0.6 angle: 20.0 is 61.61 %\n",
            "Accuracy after augmentation shear: 0.6 angle: 30.0 is 63.260000000000005 %\n",
            "Accuracy after augmentation shear: 0.6 angle: 40.0 is 61.12 %\n",
            "Accuracy after augmentation shear: 0.6 angle: 50.0 is 60.540000000000006 %\n",
            "Accuracy after augmentation shear: 0.6 angle: 60.0 is 62.22 %\n",
            "Accuracy after augmentation shear: 0.8 angle: 0.0 is 63.49 %\n",
            "Accuracy after augmentation shear: 0.8 angle: 10.0 is 64.21 %\n",
            "Accuracy after augmentation shear: 0.8 angle: 20.0 is 62.239999999999995 %\n",
            "Accuracy after augmentation shear: 0.8 angle: 30.0 is 61.58 %\n",
            "Accuracy after augmentation shear: 0.8 angle: 40.0 is 61.919999999999995 %\n",
            "Accuracy after augmentation shear: 0.8 angle: 50.0 is 61.28 %\n",
            "Accuracy after augmentation shear: 0.8 angle: 60.0 is 61.309999999999995 %\n",
            "Accuracy after augmentation shear: 1.0 angle: 0.0 is 63.44 %\n",
            "Accuracy after augmentation shear: 1.0 angle: 10.0 is 63.11 %\n",
            "Accuracy after augmentation shear: 1.0 angle: 20.0 is 60.11 %\n",
            "Accuracy after augmentation shear: 1.0 angle: 30.0 is 61.36000000000001 %\n",
            "Accuracy after augmentation shear: 1.0 angle: 40.0 is 62.21 %\n",
            "Accuracy after augmentation shear: 1.0 angle: 50.0 is 59.47 %\n",
            "Accuracy after augmentation shear: 1.0 angle: 60.0 is 63.27 %\n",
            "Accuracy after augmentation shear: 1.2 angle: 0.0 is 63.36000000000001 %\n",
            "Accuracy after augmentation shear: 1.2 angle: 10.0 is 64.75999999999999 %\n",
            "Accuracy after augmentation shear: 1.2 angle: 20.0 is 62.2 %\n",
            "Accuracy after augmentation shear: 1.2 angle: 30.0 is 61.27 %\n",
            "Accuracy after augmentation shear: 1.2 angle: 40.0 is 62.9 %\n",
            "Accuracy after augmentation shear: 1.2 angle: 50.0 is 61.23 %\n",
            "Accuracy after augmentation shear: 1.2 angle: 60.0 is 61.17 %\n",
            "Accuracy after augmentation shear: 1.4 angle: 0.0 is 63.480000000000004 %\n",
            "Accuracy after augmentation shear: 1.4 angle: 10.0 is 61.260000000000005 %\n",
            "Accuracy after augmentation shear: 1.4 angle: 20.0 is 60.01 %\n",
            "Accuracy after augmentation shear: 1.4 angle: 30.0 is 61.45 %\n",
            "Accuracy after augmentation shear: 1.4 angle: 40.0 is 61.12 %\n",
            "Accuracy after augmentation shear: 1.4 angle: 50.0 is 62.33 %\n",
            "Accuracy after augmentation shear: 1.4 angle: 60.0 is 63.3 %\n",
            "Accuracy after augmentation shear: 1.6 angle: 0.0 is 63.53 %\n",
            "Accuracy after augmentation shear: 1.6 angle: 10.0 is 61.69 %\n",
            "Accuracy after augmentation shear: 1.6 angle: 20.0 is 64.07000000000001 %\n",
            "Accuracy after augmentation shear: 1.6 angle: 30.0 is 60.650000000000006 %\n",
            "Accuracy after augmentation shear: 1.6 angle: 40.0 is 63.3 %\n",
            "Accuracy after augmentation shear: 1.6 angle: 50.0 is 62.31 %\n",
            "Accuracy after augmentation shear: 1.6 angle: 60.0 is 62.9 %\n"
          ]
        }
      ],
      "source": [
        "shearconstraints = [\n",
        "    0,\n",
        "    0.2,\n",
        "    0.4,\n",
        "    0.6,\n",
        "    0.8,\n",
        "    1.0,\n",
        "    1.2,\n",
        "    1.4,\n",
        "    1.6,\n",
        "]  # the values we want to test\n",
        "angleconstraints = [0, 10, 20, 30, 40, 50, 60]  # the values we want to test\n",
        "# cartesian product of both\n",
        "hyp = cartesian((shearconstraints, angleconstraints))\n",
        "\n",
        "accuracies = np.zeros(len(hyp), dtype=float)  # we will save the values here\n",
        "\n",
        "for ii in range(len(hyp)):\n",
        "    # create the augmented dataset\n",
        "    augdata = train_X  # we include the original images also in the augmented dataset\n",
        "    auglabel = train_y\n",
        "    for jj in range(naugmentations):\n",
        "        augdata = np.concatenate(\n",
        "            (augdata, augRotateShear(train_X, hyp[ii][0], hyp[ii][1]))\n",
        "        )  # concatenate the augmented data to the set\n",
        "        auglabel = np.concatenate(\n",
        "            (auglabel, train_y)\n",
        "        )  # the labels don't change when we augment\n",
        "\n",
        "    # check the test accuracy\n",
        "    testpred = NN(augdata, auglabel, test_X)\n",
        "    accuracies[ii] = Accuracy(test_y, testpred)\n",
        "    print(\n",
        "        \"Accuracy after augmentation shear:\",\n",
        "        hyp[ii][0],\n",
        "        \"angle:\",\n",
        "        hyp[ii][1],\n",
        "        \"is\",\n",
        "        accuracies[ii]*100,\n",
        "        \"%\",\n",
        "        flush=True,\n",
        "    )"
      ]
    },
    {
      "cell_type": "markdown",
      "metadata": {
        "id": "PT6CnvSDEX7a"
      },
      "source": [
        "Let us plot it two dimensionally to see which is the best value for the hyperparameters:"
      ]
    },
    {
      "cell_type": "code",
      "execution_count": 26,
      "metadata": {
        "colab": {
          "base_uri": "https://localhost:8080/",
          "height": 320
        },
        "id": "jD2i7msI_cLd",
        "outputId": "1c5132f0-9c3d-450e-89e9-9747ab2665db"
      },
      "outputs": [
        {
          "output_type": "execute_result",
          "data": {
            "text/plain": [
              "<matplotlib.colorbar.Colorbar at 0x79e7aa60f580>"
            ]
          },
          "metadata": {},
          "execution_count": 26
        },
        {
          "output_type": "display_data",
          "data": {
            "text/plain": [
              "<Figure size 640x480 with 2 Axes>"
            ],
            "image/png": "[encoded data removed]"
          },
          "metadata": {}
        }
      ],
      "source": [
        "fig = plt.figure()\n",
        "ax = fig.add_axes([0.1, 0.1, 0.8, 0.8])\n",
        "im = ax.imshow(\n",
        "    accuracies.reshape((len(shearconstraints), len(angleconstraints))), cmap=\"hot\"\n",
        ")\n",
        "ax.set_xlabel(\"Angle\")\n",
        "ax.set_ylabel(\"Shear\")\n",
        "ax.set_xticks(np.arange(len(angleconstraints)))\n",
        "ax.set_xticklabels(angleconstraints)\n",
        "ax.set_yticks(np.arange(len(shearconstraints)))\n",
        "ax.set_yticklabels(shearconstraints)\n",
        "plt.colorbar(im)"
      ]
    },
    {
      "cell_type": "markdown",
      "metadata": {
        "id": "OHcZWJiFJDMh"
      },
      "source": [
        "It seems that rotation and shear don't mix! The best accuracy is when rotation is zero."
      ]
    },
    {
      "cell_type": "markdown",
      "metadata": {
        "id": "PAasQo1C3x4A"
      },
      "source": [
        "## Questions\n",
        "Try these questions for better understanding. You may not be able to solve all of them.\n",
        "1. What is the best value for angle constraint and shear constraint you got? How much did the accuracy improve as compared to not using augmentations?\n",
        "2. Can you increase the accuracy by increasing the number of augmentations from each sample?\n",
        "3. Try implementing a few augmentations of your own and experimenting with them. A good reference is <a href=https://www.analyticsvidhya.com/blog/2019/12/image-augmentation-deep-learning-pytorch/>here. </a>\n",
        "4. Try combining various augmentations. What is the highest accuracy you can get? What is the smallest training dataset you can take and still get accuracy above 50%?\n",
        "\n",
        "Whenever you do any experiment, a good practice is to vary the hyperparameters gradually and create a graph of your results, like we did for gridsearch."
      ]
    },
    {
      "cell_type": "markdown",
      "source": [
        "1)The optimal values for angle and shear constraints in data augmentation depend heavily on the specific dataset and task, but I can provide general guidance and share what tends to work well in practice.\n",
        "\n",
        "### Angle Constraint (Rotation):\n",
        "For rotation, common values for the angle constraint range from **-15° to +15°**. This allows the model to generalize better to slight variations in orientation without introducing unrealistic rotations that could harm performance.\n",
        "\n",
        "- **Best value typically found**: Around **±10°** to **±15°**.\n",
        "- **Improvement**: The improvement in accuracy depends on the dataset, but moderate rotation augmentations (like ±10°) can lead to a **2-5% increase** in accuracy on tasks like image classification, especially when the dataset has limited variability in orientation.\n",
        "\n",
        "### Shear Constraint:\n",
        "Shear transformations involve shifting one part of the image more than another. For shear, common values are typically small to avoid heavy distortions. Values range from **0.1 to 0.3 (10% to 30%)** shear.\n",
        "\n",
        "- **Best value typically found**: A shear value around **0.2**.\n",
        "- **Improvement**: The improvement is generally smaller than with rotation, often in the **1-3% range**, depending on the model and dataset. Shear augmentations can help with robustness to perspective changes.\n",
        "\n",
        "### Improvement in Accuracy:\n",
        "When no augmentation is applied, the model might struggle to generalize, leading to overfitting, especially with small datasets. With augmentations such as angle and shear constraints:\n",
        "\n",
        "- The improvement could be **5-10%** or more in accuracy for tasks like image classification when compared to a model trained without augmentations, particularly in scenarios where the dataset is small or lacks diversity.\n",
        "\n",
        "The exact values of these improvements can vary, but augmentations generally lead to more robust and generalized models."
      ],
      "metadata": {
        "id": "_ckVKdgA2vsK"
      }
    },
    {
      "cell_type": "markdown",
      "source": [
        "2)Yes, increasing the number of augmentations from each sample can often improve accuracy, but it depends on how the augmentations are applied and whether they are helping the model generalize better.\n",
        "\n",
        "### Key Considerations:\n",
        "\n",
        "1. **Diversity of Augmentations**:\n",
        "   - If you increase the number of augmentations but keep them too similar (e.g., repeated rotations by the same angle), the benefit diminishes because the model isn't exposed to new variations.\n",
        "   - The goal is to provide the model with a diverse set of augmented samples to simulate real-world variability.\n",
        "\n",
        "2. **Overfitting Prevention**:\n",
        "   - More augmentations can help prevent overfitting, especially on smaller datasets. By generating a variety of altered versions of the same data points, the model learns to focus on the essential features, rather than memorizing the training data.\n",
        "\n",
        "3. **Diminishing Returns**:\n",
        "   - There's a point of diminishing returns. While increasing augmentations improves accuracy initially, beyond a certain point, additional augmentations may not contribute significantly. In some cases, excessive augmentation can even harm performance if the augmentations distort the data too much.\n",
        "\n",
        "### Practical Example:\n",
        "- **Without Augmentation**: The model may reach, say, **80% accuracy** on the validation set.\n",
        "- **With Basic Augmentation (e.g., rotation, shear, flip)**: Accuracy may improve to **85%**.\n",
        "- **Increasing Augmentation Count per Sample**: If you generate multiple augmentations for each sample (e.g., 5 different transformations per image), accuracy could go up to **87-90%** as the model sees more variations and learns to generalize.\n",
        "\n",
        "However, the key is **balance**. Using too many augmentations that are irrelevant or unrealistic may confuse the model and lower performance.\n",
        "\n",
        "### Best Practices:\n",
        "- **Vary augmentations**: Use a mix of augmentations like rotation, translation, scaling, color jittering, and flipping.\n",
        "- **Moderation**: Augment each sample a few times (e.g., 2-5 different variations) to increase diversity, but avoid going overboard.\n",
        "- **Monitor Performance**: Track validation accuracy as you increase the number of augmentations to ensure that the model benefits from them.\n",
        "\n",
        "In summary, increasing the number of augmentations per sample can improve accuracy, especially on smaller datasets, but it should be done thoughtfully to avoid introducing distortions that could hinder model performance."
      ],
      "metadata": {
        "id": "805qrT203zs9"
      }
    },
    {
      "cell_type": "markdown",
      "source": [
        "3)Could you clarify what specific type of augmentations you would like me to experiment with? Are you referring to image augmentations, text data augmentations, or perhaps something related to another domain? Let me know what you're aiming for, and I'd be happy to assist!"
      ],
      "metadata": {
        "id": "P-S4hGhm4Lp4"
      }
    },
    {
      "cell_type": "markdown",
      "source": [
        "4)It sounds like you're referring to a task involving machine learning or data augmentation for model training. Typically, augmentations are used in fields like computer vision or NLP to artificially increase the size of the dataset by creating modified versions of existing data.\n",
        "\n",
        "Since I can't directly run a machine learning experiment with augmentations right here, I can guide you through the process, give advice on the types of augmentations you could try, and help you simulate a plan. Here's how you might proceed:\n",
        "\n",
        "### For Image Classification Tasks\n",
        "1. **Common Augmentations**:\n",
        "   - **Geometric Augmentations**: Rotation, Flipping, Cropping, Scaling, Translation, Perspective Transformations.\n",
        "   - **Color Augmentations**: Changing brightness, contrast, saturation, hue.\n",
        "   - **Noise**: Adding Gaussian noise, salt-and-pepper noise.\n",
        "   - **Blurring/Sharpening**: Applying blur, sharpen, or emboss filters.\n",
        "\n",
        "2. **Experimental Setup**:\n",
        "   - **Base Model**: Choose a pre-trained model like ResNet, VGG, or a custom CNN.\n",
        "   - **Dataset**: Start with a small dataset like CIFAR-10 or MNIST. Split it further to create an even smaller training set.\n",
        "   - **Augmentation Strategy**: Apply combinations of augmentations—e.g., rotating images slightly while changing their contrast and adding a bit of noise.\n",
        "   - **Training**: Train models using different combinations of augmentations and compare performance.\n",
        "\n",
        "3. **Tracking Accuracy**:\n",
        "   - Start with a small subset of the dataset (e.g., 10%).\n",
        "   - Measure baseline accuracy.\n",
        "   - Gradually add augmentations to see how accuracy improves.\n",
        "\n",
        "4. **Results**:\n",
        "   - **Accuracy with Augmentations**: When using augmentations like random rotations, flips, and brightness adjustments, even small datasets can often reach over 50% accuracy, especially with transfer learning. A model trained on CIFAR-10 with only 10% of the data and heavy augmentation might still reach around 60-70% accuracy.\n",
        "   - **Smallest Dataset**: For a dataset like CIFAR-10, you might be able to achieve above 50% accuracy with as little as 5-10% of the original dataset, depending on the augmentation and the model used.\n",
        "\n",
        "### For NLP Tasks\n",
        "1. **Common Augmentations**:\n",
        "   - **Textual Augmentations**: Synonym replacement, random word insertion, random word deletion.\n",
        "   - **Backtranslation**: Translate text to another language and back to generate paraphrases.\n",
        "   - **Noise Injection**: Adding small typos, changing punctuation, or modifying cases.\n",
        "\n",
        "2. **Experimental Setup**:\n",
        "   - **Base Model**: Use a pre-trained transformer model like BERT, GPT, or a smaller custom LSTM model.\n",
        "   - **Dataset**: For a small dataset, use a classification task like sentiment analysis (e.g., IMDB reviews).\n",
        "   - **Augmentation Strategy**: Apply random word swaps, deletions, and backtranslation to expand the dataset.\n",
        "\n",
        "3. **Tracking Accuracy**:\n",
        "   - Start with a small portion of the dataset, say 100-500 examples.\n",
        "   - Apply augmentations and fine-tune the model.\n",
        "   - Track accuracy and F1-score after each run.\n",
        "\n",
        "4. **Results**:\n",
        "   - For NLP, augmentations like backtranslation can help models achieve reasonable accuracy (above 50%) on small datasets. With only 500 examples, augmentations could help boost accuracy to 60-70%.\n",
        "\n",
        "### Final Thoughts\n",
        "Ultimately, the highest accuracy you can achieve will depend on your specific dataset and task. However, augmentations are powerful, especially for small datasets. Combining them intelligently—without overfitting—can significantly improve model performance."
      ],
      "metadata": {
        "id": "V1lVtBRW5i1z"
      }
    },
    {
      "cell_type": "markdown",
      "source": [
        "> Exercise: Try to take 50 images of each digit and calculate the performance on test set."
      ],
      "metadata": {
        "id": "zu590B33-Xp_"
      }
    }
  ],
  "metadata": {
    "colab": {
      "provenance": [],
      "include_colab_link": true
    },
    "kernelspec": {
      "display_name": "Python 3",
      "name": "python3"
    },
    "language_info": {
      "codemirror_mode": {
        "name": "ipython",
        "version": 3
      },
      "file_extension": ".py",
      "mimetype": "text/x-python",
      "name": "python",
      "nbconvert_exporter": "python",
      "pygments_lexer": "ipython3",
      "version": "3.10.10"
    }
  },
  "nbformat": 4,
  "nbformat_minor": 0
}